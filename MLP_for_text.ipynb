{
  "nbformat": 4,
  "nbformat_minor": 0,
  "metadata": {
    "colab": {
      "provenance": [],
      "authorship_tag": "ABX9TyM92QIxoPQ/+y8wVNrZ4/Gr",
      "include_colab_link": true
    },
    "kernelspec": {
      "name": "python3",
      "display_name": "Python 3"
    },
    "language_info": {
      "name": "python"
    }
  },
  "cells": [
    {
      "cell_type": "markdown",
      "metadata": {
        "id": "view-in-github",
        "colab_type": "text"
      },
      "source": [
        "<a href=\"https://colab.research.google.com/github/archyyu/RNN-GPT/blob/main/MLP_for_text.ipynb\" target=\"_parent\"><img src=\"https://colab.research.google.com/assets/colab-badge.svg\" alt=\"Open In Colab\"/></a>"
      ]
    },
    {
      "cell_type": "code",
      "execution_count": 1,
      "metadata": {
        "colab": {
          "base_uri": "https://localhost:8080/"
        },
        "id": "iT6RmPTME296",
        "outputId": "2618bb57-c4b4-469a-d518-22a30bb7a743"
      },
      "outputs": [
        {
          "output_type": "execute_result",
          "data": {
            "text/plain": [
              "<torch._C.Generator at 0x7d34bab3c330>"
            ]
          },
          "metadata": {},
          "execution_count": 1
        }
      ],
      "source": [
        "import requests\n",
        "import torch\n",
        "import torch.nn as nn\n",
        "import torch.optim as optim\n",
        "import numpy as np\n",
        "\n",
        "# Set random seed for reproducibility\n",
        "torch.manual_seed(42)"
      ]
    },
    {
      "cell_type": "code",
      "source": [
        "# Data I/O\n",
        "url = \"https://raw.githubusercontent.com/karpathy/char-rnn/master/data/tinyshakespeare/input.txt\"\n",
        "#url = \"https://raw.githubusercontent.com/archyyu/publicResource/main/google.dev.en\"\n",
        "#url = \"https://raw.githubusercontent.com/tinygrad/tinygrad/master/tinygrad/tensor.py\"\n",
        "#url = \"https://raw.githubusercontent.com/archyyu/publicResource/main/KDE4.en-es.en\"\n",
        "#url = \"https://raw.githubusercontent.com/archyyu/publicResource/main/js\"\n",
        "response = requests.get(url)\n",
        "data = response.text\n",
        "\n",
        "chars = list(set(data))\n",
        "data_size, vocab_size = len(data), len(chars)\n",
        "print(f'data has {data_size} characters, {vocab_size} unique.')\n",
        "\n",
        "char_to_ix = {ch: i for i, ch in enumerate(chars)}\n",
        "ix_to_char = {i: ch for i, ch in enumerate(chars)}"
      ],
      "metadata": {
        "colab": {
          "base_uri": "https://localhost:8080/"
        },
        "id": "Vw0Mc-HCGHQ1",
        "outputId": "086b2e45-dbf0-4a90-fe92-9ec8ad06a6da"
      },
      "execution_count": 2,
      "outputs": [
        {
          "output_type": "stream",
          "name": "stdout",
          "text": [
            "data has 1115394 characters, 65 unique.\n"
          ]
        }
      ]
    },
    {
      "cell_type": "code",
      "source": [],
      "metadata": {
        "id": "EjfYPqs8N2ot"
      },
      "execution_count": null,
      "outputs": []
    },
    {
      "cell_type": "code",
      "source": [
        "# Hyperparameters\n",
        "hidden_size = 128\n",
        "embedding_dim = 20\n",
        "seq_length = 5\n",
        "learning_rate = 0.001\n",
        "batch_size = 20"
      ],
      "metadata": {
        "id": "JUKwqcBGGJSL"
      },
      "execution_count": 73,
      "outputs": []
    },
    {
      "cell_type": "code",
      "source": [
        "class MLP(nn.Module):\n",
        "  def __init__(self, seq_length, vocab_size, embedding_size, hidden_size):\n",
        "    super(MLP, self).__init__()\n",
        "    self.em = nn.Embedding(vocab_size, embedding_size)\n",
        "    self.W1 = nn.Linear(seq_length * embedding_size, hidden_size)\n",
        "    self.b1 = nn.Parameter(torch.zeros(1, hidden_size))\n",
        "\n",
        "    self.W2 = nn.Linear(hidden_size, vocab_size)\n",
        "    self.b2 = nn.Parameter(torch.zeros(1, vocab_size))\n",
        "\n",
        "  def forward(self, x):\n",
        "    x = self.em(x)\n",
        "    x = x.reshape(1, -1)\n",
        "    h1 = torch.tanh(self.W1(x) + self.b1)\n",
        "    y = self.W2(h1) + self.b2\n",
        "    return y\n",
        "\n",
        "\n",
        "criterion = nn.CrossEntropyLoss()\n",
        "\n",
        "model = MLP(seq_length, vocab_size, embedding_dim, hidden_size)\n",
        "optimizer = optim.Adagrad(model.parameters(), lr=learning_rate)"
      ],
      "metadata": {
        "id": "dQpTC3RZE75U"
      },
      "execution_count": 74,
      "outputs": []
    },
    {
      "cell_type": "code",
      "source": [
        "# Training loop\n",
        "stopi = []\n",
        "lossi = []\n",
        "num_iterations = 5\n",
        "for iteration in range(num_iterations):\n",
        "\n",
        "  for p in range(len(data) - seq_length):\n",
        "\n",
        "    inputs = torch.tensor([char_to_ix[ch] for ch in data[p:p + seq_length]], dtype=torch.long).view(1, -1)\n",
        "    targets = torch.tensor([char_to_ix[ch] for ch in data[p + seq_length]], dtype=torch.long).view(-1)\n",
        "\n",
        "    # inputs, targets = generateMiniBatch(p)\n",
        "\n",
        "    optimizer.zero_grad()\n",
        "\n",
        "\n",
        "    predict_char = model(inputs)\n",
        "    loss = criterion(predict_char, targets)\n",
        "\n",
        "    loss.backward()\n",
        "\n",
        "    for param in model.parameters():\n",
        "      if param.grad is not None:\n",
        "        param.grad.data.clamp_(-5, 5)\n",
        "\n",
        "    optimizer.step()\n",
        "\n",
        "    if p % 2000 == 0:\n",
        "      print(f'Iteration {(iteration + 1) * p}, Loss: {loss.item()}')\n",
        "      stopi.append((iteration + 1) * p)\n",
        "      lossi.append(loss.item())\n",
        "\n",
        ""
      ],
      "metadata": {
        "colab": {
          "base_uri": "https://localhost:8080/"
        },
        "id": "sLe4BKaHOuAZ",
        "outputId": "9666b5a7-9f97-4188-e6ce-2ac6c50d5209"
      },
      "execution_count": null,
      "outputs": [
        {
          "output_type": "stream",
          "name": "stdout",
          "text": [
            "Iteration 0, Loss: 1.3370730876922607\n",
            "Iteration 2000, Loss: 2.3781089782714844\n",
            "Iteration 4000, Loss: 3.9304099082946777\n",
            "Iteration 6000, Loss: 0.9312723875045776\n",
            "Iteration 8000, Loss: 4.083223342895508\n",
            "Iteration 10000, Loss: 3.2543673515319824\n",
            "Iteration 12000, Loss: 2.252898693084717\n",
            "Iteration 14000, Loss: 1.171481728553772\n",
            "Iteration 16000, Loss: 2.3642354011535645\n",
            "Iteration 18000, Loss: 3.371138572692871\n",
            "Iteration 20000, Loss: 1.940900206565857\n",
            "Iteration 22000, Loss: 2.2904744148254395\n"
          ]
        }
      ]
    },
    {
      "cell_type": "code",
      "source": [
        "start = \"First Citizen\"\n",
        "\n",
        "for i in range(1000):\n",
        "  lll = start[:seq_length]\n",
        "  ll = torch.tensor([char_to_ix[ch] for ch in lll], dtype=torch.long).view(1, -1)\n",
        "  outputs = model(ll)\n",
        "  p = nn.functional.softmax(outputs, dim=-1).detach().numpy().ravel()\n",
        "  ix = np.random.choice(range(vocab_size), p=p)\n",
        "  ix = torch.tensor(ix, dtype=torch.long).view(1, 1)\n",
        "  start += ix_to_char[ix[0][0].item()]\n",
        "\n",
        "print(start)\n"
      ],
      "metadata": {
        "colab": {
          "base_uri": "https://localhost:8080/"
        },
        "id": "ngbcAiVDgSs_",
        "outputId": "0b6e4bd6-a016-4e16-dcc9-981befa95558"
      },
      "execution_count": 80,
      "outputs": [
        {
          "output_type": "stream",
          "name": "stdout",
          "text": [
            "First Citizengh t stih  hei lltsehr ,i  sw At nv c ut hw   i nsrh  e gd  nsyru ud a hso ih:a ostct iAihh hhha onco u  \n",
            " o,hgsr  iir:   doTe hihR\n",
            "   \n",
            "sd!enedi n \n",
            "sTlhe hn   hb hCllt hi  scacp nh nliiv L  sl Sgu  rh   h.il ,c clhco  oOht\n",
            "y-\n",
            " hsIhpuieh himrnos: ohRdir r t insh ce h ltserhh ; h dnmaa mt ih ;s how ive eZ nV m\n",
            "ea;ihih     c e  m nh m y \n",
            "fsh ohe  h shh;h  n\n",
            "h,urhw   : n heo\n",
            " rh   l\n",
            " hsr e a  a  e h   .ic.bv srr Qhah eissr n\n",
            "oichi l chsr  rti  Ihii  nlahewtlhHhr Ind, ni  ichilohsh pes oee ho  hhi fo hmorhhdsutn,uee   nlgo  h mh  heuc!iCihhN,hlce suh.i calm ti   h:b  hsOihhifr tuh ru sTa \n",
            "ahs hh dreIoS mur etmic,hdus h the re.huhu\n",
            "\n",
            "ocehhu  htuHsh  ooueoh roine  hvcisi d herh rin h\n",
            "eItr wmhi h:  rm sudyhh:lrhmnl i: io,' phshnso yh  de te psh  - \n",
            "dh i dryn: ggi hy  nh e nd:  usC  eR tuvhafvsrWsnrhratqrumy o it oha n  hnnh s ibr  s huyT  h s\n",
            "h ed  rli   io ohhbemr  u rghmlu  -rihi r;ruib     :mgheyb:i   ht \n",
            "hart    h.hsa ra h di sa o, :rlrh ehhb   hso\n",
            "  t eh A :s ,hlrst\n",
            "hhoop vr  h h\n",
            "hti u\n",
            "  h\n"
          ]
        }
      ]
    },
    {
      "cell_type": "code",
      "source": [
        "def sample(start, n):\n",
        "\n",
        "  for i in range(n):\n",
        "    start = start[:seq_length]\n",
        "    x = torch.tensor([char_to_ix[ch] for ch in start], dtype=torch.long).view(1, -1)\n",
        "    outputs = model(x)\n",
        "    p = nn.functional.softmax(outputs, dim=-1).detach().numpy().ravel()\n",
        "    ix = np.random.choice(range(vocab_size), p=p)\n",
        "    ix = torch.tensor(ix, dtype=torch.long).view(1, 1)\n",
        "    ixes.append(ix)"
      ],
      "metadata": {
        "id": "lNEU1AFPe1Nn"
      },
      "execution_count": null,
      "outputs": []
    }
  ]
}