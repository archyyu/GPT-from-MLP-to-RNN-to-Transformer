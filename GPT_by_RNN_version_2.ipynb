{
  "nbformat": 4,
  "nbformat_minor": 0,
  "metadata": {
    "colab": {
      "provenance": [],
      "authorship_tag": "ABX9TyPyayVla6So7QcAoSjEBKZ9",
      "include_colab_link": true
    },
    "kernelspec": {
      "name": "python3",
      "display_name": "Python 3"
    },
    "language_info": {
      "name": "python"
    }
  },
  "cells": [
    {
      "cell_type": "markdown",
      "metadata": {
        "id": "view-in-github",
        "colab_type": "text"
      },
      "source": [
        "<a href=\"https://colab.research.google.com/github/archyyu/GPT-from-MLP-to-RNN-to-Transformer/blob/main/GPT_by_RNN_version_2.ipynb\" target=\"_parent\"><img src=\"https://colab.research.google.com/assets/colab-badge.svg\" alt=\"Open In Colab\"/></a>"
      ]
    },
    {
      "cell_type": "code",
      "source": [
        "import requests\n",
        "import torch\n",
        "import torch.nn as nn\n",
        "import torch.optim as optim\n",
        "import numpy as np\n",
        "import matplotlib.pyplot as plt # for making figures\n",
        "%matplotlib inline\n",
        "\n",
        "# Set random seed for reproducibility\n",
        "torch.manual_seed(42)"
      ],
      "metadata": {
        "id": "uOcLhTikoHXs",
        "colab": {
          "base_uri": "https://localhost:8080/"
        },
        "outputId": "06f50b4e-1cba-4352-d699-ffca7f423e29"
      },
      "execution_count": 1,
      "outputs": [
        {
          "output_type": "execute_result",
          "data": {
            "text/plain": [
              "<torch._C.Generator at 0x78ea7018c5d0>"
            ]
          },
          "metadata": {},
          "execution_count": 1
        }
      ]
    },
    {
      "cell_type": "code",
      "source": [
        "# Data I/O\n",
        "\n",
        "url = \"https://raw.githubusercontent.com/karpathy/char-rnn/master/data/tinyshakespeare/input.txt\"\n",
        "#url = \"https://raw.githubusercontent.com/archyyu/publicResource/main/google.dev.en\"\n",
        "#url = \"https://raw.githubusercontent.com/torvalds/linux/master/mm/madvise.c\"\n",
        "response = requests.get(url)\n",
        "data = response.text\n",
        "\n",
        "chars = list(set(data))\n",
        "data_size, vocab_size = len(data), len(chars)\n",
        "print(f'data has {data_size} characters, {vocab_size} unique.')\n",
        "\n",
        "char_to_ix = {ch: i for i, ch in enumerate(chars)}\n",
        "ix_to_char = {i: ch for i, ch in enumerate(chars)}"
      ],
      "metadata": {
        "colab": {
          "base_uri": "https://localhost:8080/"
        },
        "id": "5pc3iAgLoLPl",
        "outputId": "932f0067-0413-4776-eafe-c6c3bcb35143"
      },
      "execution_count": 2,
      "outputs": [
        {
          "output_type": "stream",
          "name": "stdout",
          "text": [
            "data has 1115394 characters, 65 unique.\n"
          ]
        }
      ]
    },
    {
      "cell_type": "code",
      "source": [
        "# Hyperparameters\n",
        "hidden_size = 100\n",
        "embedding_dim = 20\n",
        "seq_length = 25\n",
        "learning_rate = 1e-1\n",
        "batch_size = 20"
      ],
      "metadata": {
        "id": "F1bdC1IQoO7B"
      },
      "execution_count": 3,
      "outputs": []
    },
    {
      "cell_type": "code",
      "source": [
        "class ManillaRNN(nn.Module):\n",
        "  def __init__(self, vocab_size, embedding_dim, hidden_size):\n",
        "    super(ManillaRNN, self).__init__()\n",
        "    self.hidden_size = hidden_size\n",
        "    self.embedding = nn.Embedding(vocab_size, embedding_dim)\n",
        "    self.i2h = nn.Linear(embedding_dim, hidden_size)\n",
        "    self.h2h = nn.Linear(hidden_size, hidden_size)\n",
        "    self.h2o = nn.Linear(hidden_size, vocab_size)\n",
        "    self.hb2 = nn.Parameter(torch.zeros(1, hidden_size))\n",
        "    self.ob = nn.Parameter(torch.zeros(1, vocab_size))\n",
        "\n",
        "  def forward(self, x):\n",
        "    h = torch.zeros(1, self.hidden_size)\n",
        "    y_list = []\n",
        "    for i in range(x.shape[1]):\n",
        "      t = self.embedding(x[:,i])\n",
        "      h = torch.tanh(self.i2h(t) + self.h2h(h) + self.hb2)\n",
        "      y = self.h2o(h) + self.ob\n",
        "      y_list.append(y)\n",
        "    return torch.stack(y_list, dim=1);\n",
        "\n",
        "criterion = nn.CrossEntropyLoss()\n",
        "\n",
        "model = ManillaRNN(vocab_size, embedding_dim, hidden_size)\n",
        "optimizer = optim.Adagrad(model.parameters(), lr=learning_rate)"
      ],
      "metadata": {
        "id": "PIhImafKpZNI"
      },
      "execution_count": 4,
      "outputs": []
    },
    {
      "cell_type": "markdown",
      "source": [
        "Now tusi ManillaRNN is different with the VanillaRNN.\n",
        "It will iterate all the time step, drop the intermediate output, and only output the final one.\n",
        "\n",
        "But I am not going to rewrite the training function to retrain the new model.\n",
        "Because I think the VanillaRNN is more better and controlable than this one.\n"
      ],
      "metadata": {
        "id": "aHBdvi-upC5d"
      }
    },
    {
      "cell_type": "code",
      "source": [
        "def getBatch():\n",
        "  batch_inputs = []\n",
        "  batch_targets = []\n",
        "\n",
        "  start_idx = torch.randint(len(data) - seq_length - 2,[1]).item()\n",
        "\n",
        "  # Generate examples for the current minibatch\n",
        "  for i in range(batch_size):\n",
        "    p = start_idx + i\n",
        "    inputs = torch.tensor([char_to_ix[ch] for ch in data[p:p + seq_length]], dtype=torch.long).view(1, -1)\n",
        "    targets = torch.tensor([char_to_ix[ch] for ch in data[p + 1:p + seq_length + 1]], dtype=torch.long).view(-1)\n",
        "\n",
        "    batch_inputs.append(inputs)\n",
        "    batch_targets.append(targets)\n",
        "\n",
        "  # Convert lists to tensors\n",
        "  minibatch_inputs = torch.cat(batch_inputs, dim=0)\n",
        "  minibatch_targets = torch.stack(batch_targets)\n",
        "  return minibatch_inputs, minibatch_targets"
      ],
      "metadata": {
        "id": "PgvNUMTTzp72"
      },
      "execution_count": 5,
      "outputs": []
    },
    {
      "cell_type": "code",
      "source": [
        "stopi = []\n",
        "lossi = []"
      ],
      "metadata": {
        "id": "n2Mur0SYUMub"
      },
      "execution_count": 6,
      "outputs": []
    },
    {
      "cell_type": "code",
      "execution_count": 7,
      "metadata": {
        "id": "t7miViwQnRUd",
        "colab": {
          "base_uri": "https://localhost:8080/"
        },
        "outputId": "cf1e4c25-460f-4826-cf11-95cac0727551"
      },
      "outputs": [
        {
          "output_type": "stream",
          "name": "stdout",
          "text": [
            "Iteration 0, Loss: 4.191685676574707\n",
            "Iteration 1000, Loss: 2.4839775562286377\n",
            "Iteration 2000, Loss: 2.1040613651275635\n",
            "Iteration 3000, Loss: 2.0516302585601807\n",
            "Iteration 4000, Loss: 1.7573446035385132\n",
            "Iteration 5000, Loss: 2.067279100418091\n",
            "Iteration 6000, Loss: 1.7331370115280151\n",
            "Iteration 7000, Loss: 1.737089991569519\n",
            "Iteration 8000, Loss: 1.7116087675094604\n",
            "Iteration 9000, Loss: 2.009890079498291\n"
          ]
        }
      ],
      "source": [
        "# Training loop\n",
        "num_iterations = 10000\n",
        "for iteration in range(num_iterations):\n",
        "\n",
        "  inputs, targets = getBatch()\n",
        "  predicts = model(inputs)\n",
        "  optimizer.zero_grad()\n",
        "  B,T = targets.shape\n",
        "\n",
        "  totalloss = criterion(predicts.view(B*T, -1), targets.view(B*T))\n",
        "  totalloss.backward()\n",
        "  optimizer.step()\n",
        "\n",
        "  if iteration % 1000 == 0:\n",
        "    print(f'Iteration {iteration}, Loss: {totalloss}')\n",
        "    stopi.append(iteration)\n",
        "    lossi.append(totalloss.item())\n"
      ]
    },
    {
      "cell_type": "code",
      "source": [
        "plt.plot(stopi, lossi)"
      ],
      "metadata": {
        "colab": {
          "base_uri": "https://localhost:8080/",
          "height": 448
        },
        "id": "kpWRZt81RrAt",
        "outputId": "baaa358e-66a2-4b4a-bf83-ebe8d45c3101"
      },
      "execution_count": 8,
      "outputs": [
        {
          "output_type": "execute_result",
          "data": {
            "text/plain": [
              "[<matplotlib.lines.Line2D at 0x78e9a811f6a0>]"
            ]
          },
          "metadata": {},
          "execution_count": 8
        },
        {
          "output_type": "display_data",
          "data": {
            "text/plain": [
              "<Figure size 640x480 with 1 Axes>"
            ],
            "image/png": "[encoded data removed]"
          },
          "metadata": {}
        }
      ]
    },
    {
      "cell_type": "code",
      "source": [
        "with torch.no_grad():\n",
        "\n",
        "  start = ['F','i','r','s','t']\n",
        "  result = ['F','i','r','s','t']\n",
        "\n",
        "  for i in range(1000):\n",
        "    start = start[-seq_length:]\n",
        "    ilist = torch.tensor([char_to_ix[i] for i in start])\n",
        "    ilist = ilist.reshape(1, -1)\n",
        "    outputs = model(ilist)\n",
        "\n",
        "    p = nn.functional.softmax(outputs[:,-1,:], dim=-1).detach().numpy().ravel()\n",
        "    ix = np.random.choice(range(vocab_size), p=p)\n",
        "    start.append(ix_to_char[ix])\n",
        "    result.append(ix_to_char[ix])\n",
        "\n",
        "  print(''.join(result))\n"
      ],
      "metadata": {
        "colab": {
          "base_uri": "https://localhost:8080/"
        },
        "id": "KUF9pT7OHdwM",
        "outputId": "4b307ac9-91c4-4e03-eb19-650effde4436"
      },
      "execution_count": 33,
      "outputs": [
        {
          "output_type": "stream",
          "name": "stdout",
          "text": [
            "First I seave aptouny fro gever, you dake the thouse but be overou made rook.\n",
            "\n",
            "KETHARUS:\n",
            "Petand is achath.\n",
            "\n",
            "Grester your faster trough not, you is more it,\n",
            "Thishys, Long and sust,\n",
            "eid, fach fordact and not Tomfor ere man have I siter, Fold for mathink a 'ging bodes\n",
            "Io which\n",
            "pinttunes then's not Bay. II:\n",
            "Should to thou thwet.\n",
            "\n",
            "PRNrATYATESO:\n",
            "My behath grabye\n",
            "The ks at thy the tidds rive\n",
            "A duns;\n",
            "\n",
            "CEYIO:\n",
            "Dite.\n",
            "\n",
            "SATUL:\n",
            "I so; the mast ay gust by.\n",
            "\n",
            "Mar, arp\n",
            "alb.\n",
            "\n",
            "Picks chelt!\n",
            "\n",
            "GRUCEY:\n",
            "So the by froscour sired I wens cind, Iath arions:\n",
            "Bew groscelon's;\n",
            "And bith Ause a sather that the cullos\n",
            "Sis trupts.\n",
            "\n",
            "AUTIO:\n",
            "Should end a licks,\n",
            "ATh folde love thou shood evenst you work them-yiers of wagger,\n",
            "Os the with for tor her faee,--Of in havr. Lo and witht did a pids redyow'd the utserqease, En straintionguly the wave shall arious fair crown 'tourst nare the nesion; not it meeth ofs, whr,\n",
            "What shall you.\n",
            "For stands,\n",
            "Bother it.\n",
            "\n",
            "Secoman rore are is are his for I'll thouguich,\n",
            "I drang:\n",
            "No park! which I getors\n"
          ]
        }
      ]
    },
    {
      "cell_type": "markdown",
      "source": [
        "Since the RNN is better for seq to seq.but it also better for seq to 1.\n",
        "In the above example, it is actually a example of seq to 1.\n",
        "The thing is that, I only use the last output of the node as the result of the rnn.\n",
        "\n",
        "I am not sure what if I stack all the outputs of the nodes, and squeese them tegether to get the final result is better or not. will continue to explore.\n",
        "\n",
        "I think there is also another way to optimize the above model.\n",
        "When I train the model, I prepare my data like this, the input is a list of characters, the expected output is one character.\n",
        "but we could also prepare data like this, the input a list of characters, the expect result is also a list of character, but with one step shift.\n",
        "but when generating data, I could just use the last character as the result.\n",
        "\n",
        "I will try the last one later."
      ],
      "metadata": {
        "id": "tZzxsUe8AdRw"
      }
    },
    {
      "cell_type": "markdown",
      "source": [
        "The new idea is that.\n",
        "\n",
        "I always use the last time step as the final output of the RNN, or as the predict character of the previous input. we could go further as that, add attention in the final step, to focus differently on the previous tokens to decide what to predict, let do that."
      ],
      "metadata": {
        "id": "UscbtqGkCQWy"
      }
    }
  ]
}