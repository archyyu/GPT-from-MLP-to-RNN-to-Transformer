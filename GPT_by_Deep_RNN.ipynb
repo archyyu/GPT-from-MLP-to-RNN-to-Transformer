{
  "nbformat": 4,
  "nbformat_minor": 0,
  "metadata": {
    "colab": {
      "provenance": [],
      "authorship_tag": "ABX9TyPcElMrEYVZO23nCVjoh96c",
      "include_colab_link": true
    },
    "kernelspec": {
      "name": "python3",
      "display_name": "Python 3"
    },
    "language_info": {
      "name": "python"
    }
  },
  "cells": [
    {
      "cell_type": "markdown",
      "metadata": {
        "id": "view-in-github",
        "colab_type": "text"
      },
      "source": [
        "<a href=\"https://colab.research.google.com/github/archyyu/GPT-from-MLP-to-RNN-to-Transformer/blob/main/GPT_by_Deep_RNN.ipynb\" target=\"_parent\"><img src=\"https://colab.research.google.com/assets/colab-badge.svg\" alt=\"Open In Colab\"/></a>"
      ]
    },
    {
      "cell_type": "code",
      "source": [
        "import requests\n",
        "import torch\n",
        "import torch.nn as nn\n",
        "import torch.optim as optim\n",
        "import numpy as np\n",
        "import matplotlib.pyplot as plt # for making figures\n",
        "%matplotlib inline\n",
        "\n",
        "# Set random seed for reproducibility\n",
        "torch.manual_seed(42)"
      ],
      "metadata": {
        "id": "uOcLhTikoHXs",
        "colab": {
          "base_uri": "https://localhost:8080/"
        },
        "outputId": "53907bd8-efe4-4b1b-87dd-64c42d0a2027"
      },
      "execution_count": null,
      "outputs": [
        {
          "output_type": "execute_result",
          "data": {
            "text/plain": [
              "<torch._C.Generator at 0x7d682ef54350>"
            ]
          },
          "metadata": {},
          "execution_count": 1
        }
      ]
    },
    {
      "cell_type": "code",
      "source": [
        "# Data I/O\n",
        "\n",
        "url = \"https://raw.githubusercontent.com/karpathy/char-rnn/master/data/tinyshakespeare/input.txt\"\n",
        "#url = \"https://raw.githubusercontent.com/archyyu/publicResource/main/google.dev.en\"\n",
        "#url = \"https://raw.githubusercontent.com/torvalds/linux/master/mm/madvise.c\"\n",
        "response = requests.get(url)\n",
        "data = response.text\n",
        "\n",
        "chars = list(set(data))\n",
        "data_size, vocab_size = len(data), len(chars)\n",
        "print(f'data has {data_size} characters, {vocab_size} unique.')\n",
        "\n",
        "char_to_ix = {ch: i for i, ch in enumerate(chars)}\n",
        "ix_to_char = {i: ch for i, ch in enumerate(chars)}"
      ],
      "metadata": {
        "colab": {
          "base_uri": "https://localhost:8080/"
        },
        "id": "5pc3iAgLoLPl",
        "outputId": "34913dd2-14ab-48b7-8786-de1b19f5864b"
      },
      "execution_count": null,
      "outputs": [
        {
          "output_type": "stream",
          "name": "stdout",
          "text": [
            "data has 1115394 characters, 65 unique.\n"
          ]
        }
      ]
    },
    {
      "cell_type": "code",
      "source": [
        "# Hyperparameters\n",
        "hidden_size = 100\n",
        "embedding_dim = 20\n",
        "seq_length = 25\n",
        "learning_rate = 1e-1\n",
        "batch_size = 20"
      ],
      "metadata": {
        "id": "F1bdC1IQoO7B"
      },
      "execution_count": null,
      "outputs": []
    },
    {
      "cell_type": "code",
      "source": [
        "# We should change the VanillaRNN a little bit, so could be used in deep RNN.\n",
        "class SimpleRNN(nn.Module):\n",
        "  def __init__(self, vocab_size, embedding_dim, hidden_size):\n",
        "    super(SimpleRNN, self).__init__()\n",
        "    self.i2h = nn.Linear(embedding_dim, hidden_size)\n",
        "    self.h2h = nn.Linear(hidden_size, hidden_size)\n",
        "    self.h2o = nn.Linear(hidden_size, vocab_size)\n",
        "    self.hb2 = nn.Parameter(torch.zeros(1, hidden_size))\n",
        "    self.ob = nn.Parameter(torch.zeros(1, vocab_size))\n",
        "\n",
        "  def forward(self, x, h):\n",
        "    h2 = torch.tanh(self.i2h(x) + self.h2h(h) + self.hb2)\n",
        "    y = self.h2o(h2) + self.ob\n",
        "    return y, h2\n",
        "\n",
        "\n",
        "class DeepRNN(nn.Module):\n",
        "  def __init__(self, vocab_size, embedding_dim, hidden_size, deep_num):\n",
        "    super(DeepRNN, self).__init__()\n",
        "    self.embedding = nn.Embedding(vocab_size, embedding_dim)\n",
        "    self.rnn_list = nn.ModuleList([VanillaRNN(vocab_size, embedding_dim, hidden_size) for _ in range(deep_num)]\n",
        "  def forward(self, x, h):\n",
        "    x = self.embedding(x)\n",
        "    for rnn in self.rnn_list:\n",
        "      x, h = rnn(x, h)\n",
        "    return x, h\n",
        "\n",
        "# Loss function\n",
        "criterion = nn.CrossEntropyLoss()\n",
        "\n",
        "# Model initialization\n",
        "model = DeepRNN(vocab_size, embedding_dim, hidden_size, 3)\n",
        "optimizer = optim.Adagrad(model.parameters(), lr=learning_rate)"
      ],
      "metadata": {
        "id": "2nIoS_FgoXQZ"
      },
      "execution_count": null,
      "outputs": []
    },
    {
      "cell_type": "markdown",
      "source": [
        "Okay, the above VanillaRNN's forward function is very simple.\n",
        "it just go through one time step.\n",
        "I think I should go further to go through N timestep in the forward function.\n",
        "okay, let do it.\n"
      ],
      "metadata": {
        "id": "ioVgUPK2w_vF"
      }
    },
    {
      "cell_type": "code",
      "source": [
        "class ManillaRNN(nn.Module):\n",
        "  def __init__(self, vocab_size, embedding_dim, hidden_size):\n",
        "    super(ManillaRNN, self).__init__()\n",
        "    self.hidden_size = hidden_size\n",
        "    self.embedding = nn.Embedding(vocab_size, embedding_dim)\n",
        "    self.i2h = nn.Linear(embedding_dim, hidden_size)\n",
        "    self.h2h = nn.Linear(hidden_size, hidden_size)\n",
        "    self.h2o = nn.Linear(hidden_size, vocab_size)\n",
        "    self.hb2 = nn.Parameter(torch.zeros(1, hidden_size))\n",
        "    self.ob = nn.Parameter(torch.zeros(1, vocab_size))\n",
        "\n",
        "  def forward(self, x):\n",
        "    h = torch.zeros(1, self.hidden_size)\n",
        "    for i in range(x.shape[1]):\n",
        "      t = self.embedding(x[:,i])\n",
        "      h = torch.tanh(self.i2h(t) + self.h2h(h) + self.hb2)\n",
        "      y = self.h2o(h) + self.ob\n",
        "    return y\n",
        "\n",
        "criterion = nn.CrossEntropyLoss()\n",
        "\n",
        "model = ManillaRNN(vocab_size, embedding_dim, hidden_size)\n",
        "optimizer = optim.Adagrab(model.parameters(), lr=learning_rate)"
      ],
      "metadata": {
        "id": "PIhImafKpZNI"
      },
      "execution_count": null,
      "outputs": []
    },
    {
      "cell_type": "markdown",
      "source": [
        "Now tusi ManillaRNN is different with the VanillaRNN.\n",
        "It will iterate all the time step, drop the intermediate output, and only output the final one.\n",
        "\n",
        "But I am not going to rewrite the training function to retrain the new model.\n",
        "Because I think the VanillaRNN is more better and controlable than this one.\n"
      ],
      "metadata": {
        "id": "aHBdvi-upC5d"
      }
    },
    {
      "cell_type": "markdown",
      "source": [
        "apart from that, we could also deep the layers in the RNN.\n",
        "The idea is that there could be serveral layers between the input and the output. based on the Vanilla RNN, let us do it."
      ],
      "metadata": {
        "id": "kobPIwhDW0nW"
      }
    },
    {
      "cell_type": "code",
      "source": [
        "# We should change the VanillaRNN a little bit, so could be used in deep RNN.\n",
        "class SimpleRNN(nn.Module):\n",
        "  def __init__(self, vocab_size, embedding_dim, hidden_size):\n",
        "    super(SimpleRNN, self).__init__()\n",
        "    self.i2h = nn.Linear(embedding_dim, hidden_size)\n",
        "    self.h2h = nn.Linear(hidden_size, hidden_size)\n",
        "    self.h2o = nn.Linear(hidden_size, vocab_size)\n",
        "    self.hb2 = nn.Parameter(torch.zeros(1, hidden_size))\n",
        "    self.ob = nn.Parameter(torch.zeros(1, vocab_size))\n",
        "\n",
        "  def forward(self, x, h):\n",
        "    h2 = torch.tanh(self.i2h(x) + self.h2h(h) + self.hb2)\n",
        "    y = self.h2o(h2) + self.ob\n",
        "    return y, h2\n",
        "\n",
        "\n",
        "class DeepRNN(nn.Module):\n",
        "  def __init__(self, vocab_size, embedding_dim, hidden_size, deep_num):\n",
        "    super(DeepRNN, self).__init__()\n",
        "    self.embedding = nn.Embedding(vocab_size, embedding_dim)\n",
        "    self.rnn_list = nn.ModuleList([VanillaRNN(vocab_size, embedding_dim, hidden_size) for _ in range(deep_num)]\n",
        "  def forward(self, x, h):\n",
        "    x = self.embedding(x)\n",
        "    for rnn in self.rnn_list:\n",
        "      x, h = rnn(x, h)\n",
        "    return x, h\n",
        "\n",
        "# Loss function\n",
        "criterion = nn.CrossEntropyLoss()\n",
        "\n",
        "# Model initialization\n",
        "model = VanillaRNN(vocab_size, embedding_dim, hidden_size)\n",
        "optimizer = optim.Adagrad(model.parameters(), lr=learning_rate)"
      ],
      "metadata": {
        "id": "Qqdot-nIVycE"
      },
      "execution_count": null,
      "outputs": []
    },
    {
      "cell_type": "code",
      "source": [
        "def generateMiniBatch(start_idx):\n",
        "  batch_inputs = []\n",
        "  batch_targets = []\n",
        "\n",
        "  # Generate examples for the current minibatch\n",
        "  for i in range(batch_size):\n",
        "    p = start_idx + i\n",
        "    inputs = torch.tensor([char_to_ix[ch] for ch in data[p:p + seq_length]], dtype=torch.long).view(1, -1)\n",
        "    targets = torch.tensor([char_to_ix[ch] for ch in data[p + 1:p + seq_length + 1]], dtype=torch.long).view(-1)\n",
        "\n",
        "    batch_inputs.append(inputs)\n",
        "    batch_targets.append(targets)\n",
        "\n",
        "  # Convert lists to tensors\n",
        "  minibatch_inputs = torch.cat(batch_inputs, dim=0)\n",
        "  minibatch_targets = torch.stack(batch_targets)\n",
        "  return minibatch_inputs, minibatch_targets"
      ],
      "metadata": {
        "id": "PgvNUMTTzp72"
      },
      "execution_count": null,
      "outputs": []
    },
    {
      "cell_type": "code",
      "source": [
        "stopi = []\n",
        "lossi = []"
      ],
      "metadata": {
        "id": "n2Mur0SYUMub"
      },
      "execution_count": null,
      "outputs": []
    },
    {
      "cell_type": "code",
      "execution_count": null,
      "metadata": {
        "id": "t7miViwQnRUd",
        "colab": {
          "base_uri": "https://localhost:8080/"
        },
        "outputId": "3110cc22-8ddf-4624-998d-d690c6226819"
      },
      "outputs": [
        {
          "output_type": "stream",
          "name": "stdout",
          "text": [
            "Iteration 0, Loss: 2.615601406097412\n",
            "Iteration 1000, Loss: 2.326109142303467\n",
            "Iteration 2000, Loss: 2.2084765434265137\n",
            "Iteration 3000, Loss: 2.179548645019531\n",
            "Iteration 4000, Loss: 1.7724802780151367\n",
            "Iteration 5000, Loss: 2.267986617088318\n",
            "Iteration 6000, Loss: 2.35547456741333\n",
            "Iteration 7000, Loss: 2.152554836273193\n",
            "Iteration 8000, Loss: 2.244594888687134\n",
            "Iteration 9000, Loss: 2.174146752357483\n"
          ]
        }
      ],
      "source": [
        "# Training loop\n",
        "num_iterations = 10000\n",
        "p = 0\n",
        "for iteration in range(num_iterations):\n",
        "\n",
        "  if p + seq_length + 1 > len(data):\n",
        "    p = 0;\n",
        "\n",
        "  inputs, targets = generateMiniBatch(p)\n",
        "\n",
        "  optimizer.zero_grad()\n",
        "\n",
        "  totalloss = 0\n",
        "  hprev = torch.zeros(1, hidden_size)  # Reset RNN memory\n",
        "  for i in range(seq_length):\n",
        "    input_char = inputs[:,i].unsqueeze(1)\n",
        "    output_char = targets[:,i]\n",
        "\n",
        "    predict_char, hprev = model(input_char, hprev)\n",
        "\n",
        "    loss = criterion(predict_char.squeeze(1), output_char)\n",
        "    totalloss += loss.item()\n",
        "\n",
        "    loss.backward()\n",
        "    hprev = hprev.detach()\n",
        "\n",
        "    for param in model.parameters():\n",
        "      if param.grad is not None:\n",
        "        param.grad.data.clamp_(-5, 5)\n",
        "\n",
        "    optimizer.step()\n",
        "\n",
        "  if iteration % 1000 == 0:\n",
        "    print(f'Iteration {iteration}, Loss: {totalloss/seq_length}')\n",
        "    stopi.append(iteration)\n",
        "    lossi.append(totalloss/seq_length)\n",
        "\n",
        "  p += seq_length  # Move data pointer"
      ]
    },
    {
      "cell_type": "code",
      "source": [
        "plt.plot(stopi, lossi)"
      ],
      "metadata": {
        "colab": {
          "base_uri": "https://localhost:8080/",
          "height": 448
        },
        "id": "kpWRZt81RrAt",
        "outputId": "d77ebce2-e8e9-4ade-fa5a-179a164e50da"
      },
      "execution_count": null,
      "outputs": [
        {
          "output_type": "execute_result",
          "data": {
            "text/plain": [
              "[<matplotlib.lines.Line2D at 0x7d67780be710>]"
            ]
          },
          "metadata": {},
          "execution_count": 74
        },
        {
          "output_type": "display_data",
          "data": {
            "text/plain": [
              "<Figure size 640x480 with 1 Axes>"
            ],
            "image/png": "[encoded data removed]"
          },
          "metadata": {}
        }
      ]
    },
    {
      "cell_type": "code",
      "source": [
        "# Sample from the model\n",
        "def sample(model, seed_ix, n):\n",
        "  h = torch.zeros(1, hidden_size)\n",
        "  x = torch.tensor(seed_ix, dtype=torch.long).view(1, 1)\n",
        "  ixes = []\n",
        "\n",
        "  for _ in range(n):\n",
        "    outputs, h = model(x, h)\n",
        "    p = nn.functional.softmax(outputs, dim=-1).detach().numpy().ravel()\n",
        "    ix = np.random.choice(range(vocab_size), p=p)\n",
        "    x = torch.tensor(ix, dtype=torch.long).view(1, 1)\n",
        "    ixes.append(ix)\n",
        "\n",
        "  return ixes"
      ],
      "metadata": {
        "id": "I9FANLvcoQtW"
      },
      "execution_count": null,
      "outputs": []
    },
    {
      "cell_type": "code",
      "source": [
        "# Generate sample text\n",
        "sample_ix = sample(model, char_to_ix[data[0]], 2000)\n",
        "txt = ''.join(ix_to_char[ix] for ix in sample_ix)\n",
        "print(f'Generated Text:\\n{txt}')"
      ],
      "metadata": {
        "id": "gIyG1ucAoVJE",
        "colab": {
          "base_uri": "https://localhost:8080/"
        },
        "outputId": "72629f21-7f06-498d-ee80-0e7e2419e8b5"
      },
      "execution_count": null,
      "outputs": [
        {
          "output_type": "stream",
          "name": "stdout",
          "text": [
            "Generated Text:\n",
            ":\n",
            "Fontir mind in thimin id ind ludlolacind lingo bincpot of be cy,\n",
            "Bak Linde scanof githacy lrnd loutm darich cin fiorins herst; ky amce, is int,\n",
            "Band,\n",
            "Yoranlllllkt:\n",
            "Me ileramun lf he acent, ind, ulilll cond;\n",
            "Brastou butains an, sin thid Ho ange;\n",
            "Menl fedrriretcay st lore wind wrt in, minst\n",
            "Blis Ho fom\n",
            "Lar bindinriris\n",
            "ESn.\n",
            "\n",
            "Lin bil soramt, inoflor ifis llirofcing;\n",
            "Blice yiow iu ifanis\n",
            "Hen,\n",
            "Haninrcoutail minof walleced ied defin my\n",
            "BRKINGLAM:\n",
            "Basty YachiThethbingcerothay,\n",
            "plmor ofild ik\n",
            "GLOUCELLOULASrinoflavind intheank ind hit'ds youllan fous ESTEveten in ern, ated atanlt yore shins\n",
            "Fird Lod hatrsble,\n",
            "Hinll ren nirell Hoo it ofinndan Lafe this Linco thelly,\n",
            "AAUCEprere de e oblull.\n",
            "\n",
            "Whin indty ance ot woinlll civinens dinof ifind,\n",
            "Balinot?\n",
            "\n",
            "Lor,\n",
            "Poreld pind nave, houl brencomerind, inr ilichitnd lil,\n",
            "ER:\n",
            "Sam Helind hilpp\n",
            "Clorry.\n",
            "\n",
            "LLOUCINGLOUCER:\n",
            "Butend lentray canofnd\n",
            "An:\n",
            "Whinseand bry,\n",
            "F of tind,\n",
            "And;\n",
            "Dae ie sad ey alfy,\n",
            "And thae of bacitin dilis Ler pierd furin,\n",
            "Woust hitht louid finif ha cr cene and\n",
            "Blor thu gt bisod yo ave untongrarnrsdefed yineliseter dicenrd find me ofnd of mnd mayighy yos thelleirill cees, yor atorcilll ablerd lice sont,\n",
            "Biu:\n",
            "Andy CKINGLOUCES:\n",
            "Thay thineplain bindrlacowt, t;\n",
            "I brk br thdilre no of himeds birind\n",
            "As acens,\n",
            "Soirind end, it ingoo'dighinall yoize daf my,\n",
            "Yoveay usil bloome hat,\n",
            "Lon;\n",
            "Thealinin thendlanchis fontetaf alichenlf;\n",
            "Lo toud, hand yoik, noveco llaitild bonso arrinent,\n",
            "Louthit hisgof ir br?\n",
            "\n",
            "GLOUCKINGHARKINGHAM:\n",
            "MYlce imthaingand on I prelfulds pingond mot u, thea g bim, tu fean lin outindlilillm jowtmciloouf fo sil thebefd noBin de hiRist'd as;\n",
            "Winil\n",
            "Elond band or LagrangBine canothestelf;\n",
            "FGHASodlolind\n",
            "Be\n",
            "\n",
            "BUCKINGHAMut worr in ded cichat ind igigrerat fo' se blincil alldat ooustiseer ikf fod alf, fainof,\n",
            "Wheacantre oun if bly\n",
            "Bincaf fon kd;\n",
            "Hich Lournth thenichouls,\n",
            "Halin dets carapincor yor,\n",
            "Man ctilcourena me thinoflounstin yol ciceme an,\n",
            "But\n",
            "Hand se, iltimeece ofnaobic proua izeam tuacim lon nouct ofind, wour is, fat yo\n"
          ]
        }
      ]
    }
  ]
}