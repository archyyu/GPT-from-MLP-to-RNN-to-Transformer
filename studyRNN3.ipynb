{
  "nbformat": 4,
  "nbformat_minor": 0,
  "metadata": {
    "colab": {
      "provenance": [],
      "authorship_tag": "ABX9TyPokGEHvk0g1ALuP0hJZ4d5",
      "include_colab_link": true
    },
    "kernelspec": {
      "name": "python3",
      "display_name": "Python 3"
    },
    "language_info": {
      "name": "python"
    }
  },
  "cells": [
    {
      "cell_type": "markdown",
      "metadata": {
        "id": "view-in-github",
        "colab_type": "text"
      },
      "source": [
        "<a href=\"https://colab.research.google.com/github/archyyu/RNN-GPT/blob/main/studyRNN3.ipynb\" target=\"_parent\"><img src=\"https://colab.research.google.com/assets/colab-badge.svg\" alt=\"Open In Colab\"/></a>"
      ]
    },
    {
      "cell_type": "code",
      "execution_count": null,
      "metadata": {
        "id": "vta7hPwLygow"
      },
      "outputs": [],
      "source": [
        "import requests\n",
        "url = \"https://raw.githubusercontent.com/karpathy/char-rnn/master/data/tinyshakespeare/input.txt\"\n",
        "#url = \"https://raw.githubusercontent.com/archyyu/publicResource/main/google.dev.en\"\n",
        "#url = \"https://raw.githubusercontent.com/archyyu/publicResource/main/KDE4.en-es.en\"\n",
        "#url = \"https://raw.githubusercontent.com/archyyu/publicResource/main/js\"\n",
        "response = requests.get(url)\n",
        "data = response.text.split('\\n')"
      ]
    },
    {
      "cell_type": "code",
      "source": [
        "chars = sorted(set(''.join(data)))\n",
        "chars.append('\\n')\n",
        "chars.append('#')\n",
        "i2c = dict(enumerate(chars))\n",
        "c2i = {c: i for i, c in i2c.items()}\n",
        "\n",
        "def encode(s):\n",
        "  il = []\n",
        "  for c in s:\n",
        "    il.append(c2i[c])\n",
        "  return il\n",
        "\n",
        "def decode(l):\n",
        "  cs = []\n",
        "  for i in l:\n",
        "    cs.append(i2c[i])\n",
        "  return ''.join(cs)"
      ],
      "metadata": {
        "id": "G-yraDchyk4C"
      },
      "execution_count": null,
      "outputs": []
    },
    {
      "cell_type": "code",
      "source": [
        "import torch\n",
        "import torch.nn\n",
        "\n",
        "for i in range(len(data)):\n",
        "  data[i] = '#' + data[i] + '\\n'\n",
        "\n",
        "datalist = []\n",
        "for i in range(len(data)):\n",
        "  datalist.append(encode(data[i]))"
      ],
      "metadata": {
        "id": "K6jVgdgEywaE"
      },
      "execution_count": null,
      "outputs": []
    },
    {
      "cell_type": "code",
      "source": [
        "n_lines = len(data)"
      ],
      "metadata": {
        "id": "FdxTmVv4KXyu"
      },
      "execution_count": null,
      "outputs": []
    },
    {
      "cell_type": "code",
      "source": [
        "def lineTensor(line):\n",
        "  line = encode(line)\n",
        "  input_tensor = torch.zeros((len(line), 1, len(chars)))\n",
        "  for index in range(len(line)):\n",
        "    input_tensor[index][0][line[index]] = 1\n",
        "  return input_tensor\n",
        "\n",
        "def gen_input_target_pair(i):\n",
        "  line = datalist[i]\n",
        "  input_tensor = torch.zeros((len(line) - 1, 1, len(chars)))\n",
        "  for i in range(len(line) - 1):\n",
        "    input_tensor[i][0][line[i]] = 1\n",
        "\n",
        "  target_tensor = torch.LongTensor(line[1:len(line)])\n",
        "  return input_tensor, target_tensor\n"
      ],
      "metadata": {
        "id": "YbFB81qXz-1V"
      },
      "execution_count": null,
      "outputs": []
    },
    {
      "cell_type": "code",
      "source": [
        "import torch\n",
        "import torch.nn as nn\n",
        "\n",
        "class RNN(nn.Module):\n",
        "    def __init__(self, input_size, hidden_size, output_size):\n",
        "      super(RNN, self).__init__()\n",
        "      self.hidden_size = hidden_size\n",
        "\n",
        "      self.i2h = nn.Linear(input_size + hidden_size, hidden_size)\n",
        "      self.i2o = nn.Linear(input_size + hidden_size, output_size)\n",
        "      self.o2o = nn.Linear(hidden_size + output_size, output_size)\n",
        "      self.dropout = nn.Dropout(0.1)\n",
        "      self.softmax = nn.LogSoftmax(dim=1)\n",
        "\n",
        "    def forward(self, input, hidden):\n",
        "\n",
        "      input_combined = torch.cat((input, hidden), 1)\n",
        "      hidden = self.i2h(input_combined)\n",
        "      output = self.i2o(input_combined)\n",
        "      output_combined = torch.cat((hidden, output), 1)\n",
        "      output = self.o2o(output_combined)\n",
        "      output = self.dropout(output)\n",
        "      output = self.softmax(output)\n",
        "      return output, hidden\n",
        "\n",
        "    def initHidden(self):\n",
        "      return torch.zeros(1, self.hidden_size)"
      ],
      "metadata": {
        "id": "CK8uLqai16M2"
      },
      "execution_count": null,
      "outputs": []
    },
    {
      "cell_type": "code",
      "source": [
        "n_hidden = 128\n",
        "rnn = RNN(len(chars), n_hidden, len(chars))\n",
        "criterion = nn.NLLLoss()\n",
        "\n",
        "learning_rate = 0.0005\n",
        "\n",
        "def train(input_line_tensor, target_line_tensor):\n",
        "  target_line_tensor.unsqueeze_(-1)\n",
        "  hidden = rnn.initHidden()\n",
        "  rnn.zero_grad()\n",
        "\n",
        "  loss = torch.Tensor([0]) # you can also just simply use ``loss = 0``\n",
        "\n",
        "  for i in range(input_line_tensor.size(0)):\n",
        "    output, hidden = rnn(input_line_tensor[i], hidden)\n",
        "    l = criterion(output, target_line_tensor[i])\n",
        "    loss += l\n",
        "\n",
        "  loss.backward()\n",
        "\n",
        "  for p in rnn.parameters():\n",
        "    p.data.add_(p.grad.data, alpha=-learning_rate)\n",
        "\n",
        "  return output, loss.item() / input_line_tensor.size(0)"
      ],
      "metadata": {
        "id": "lyGgaj6618aJ"
      },
      "execution_count": null,
      "outputs": []
    },
    {
      "cell_type": "code",
      "source": [
        "import random\n",
        "\n",
        "n_iters = n_lines * 10\n",
        "print_every = 1000\n",
        "plot_every = 500\n",
        "all_losses = []\n",
        "total_loss = 0 # Reset every ``plot_every`` ``iters``\n",
        "\n",
        "for iter in range(1, n_iters + 1):\n",
        "  input_tensor, target_tensor = gen_input_target_pair(iter % n_lines)\n",
        "  output, loss = train(input_tensor, target_tensor)\n",
        "  total_loss += loss\n",
        "\n",
        "  if iter % print_every == 0:\n",
        "    print('(%d %d%%) %.4f' % (iter, iter / n_iters * 100, loss))\n",
        "\n",
        "  if iter % plot_every == 0:\n",
        "    all_losses.append(total_loss / plot_every)\n",
        "    total_loss = 0"
      ],
      "metadata": {
        "id": "I3n8jP6p2g5m"
      },
      "execution_count": null,
      "outputs": []
    },
    {
      "cell_type": "code",
      "source": [
        "# Sample from a category and starting letter\n",
        "def sample(start_letter=' ', len=100):\n",
        "  with torch.no_grad():  # no need to track history in sampling\n",
        "\n",
        "    for j in range(10):\n",
        "      input = lineTensor(start_letter)\n",
        "      hidden = rnn.initHidden()\n",
        "      output_name = start_letter\n",
        "      for i in range(len):\n",
        "        output, _ = rnn(input[0], hidden)\n",
        "        topv, topi = output.topk(1)\n",
        "        topi = topi[0][0]\n",
        "        letter = i2c[topi.item()]\n",
        "        output_name += letter\n",
        "        if letter == '\\n':\n",
        "          break\n",
        "        input = lineTensor(letter)\n",
        "      print(output_name)\n",
        "\n",
        "\n",
        "sample('#', 100)\n"
      ],
      "metadata": {
        "colab": {
          "base_uri": "https://localhost:8080/"
        },
        "id": "oNg5_jgZ2uV1",
        "outputId": "1beaef1b-4f3d-4a3a-e273-8e522a897151"
      },
      "execution_count": null,
      "outputs": [
        {
          "output_type": "stream",
          "name": "stdout",
          "text": [
            "#                                                                                                    \n",
            "#                                                                                                    \n",
            "#                                                                                                    \n",
            "#                                                                                                    \n",
            "#                                                                                                    \n",
            "#                                                                                                    \n",
            "#                                                                                                    \n",
            "#                                                                                                    \n",
            "#                                                                                                    \n",
            "#                                                                                                    \n"
          ]
        }
      ]
    }
  ]
}