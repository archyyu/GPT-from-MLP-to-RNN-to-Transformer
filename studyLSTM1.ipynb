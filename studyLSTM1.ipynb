{
  "nbformat": 4,
  "nbformat_minor": 0,
  "metadata": {
    "colab": {
      "provenance": [],
      "authorship_tag": "ABX9TyNa7CsQrUO+HXek0kV0eW0E",
      "include_colab_link": true
    },
    "kernelspec": {
      "name": "python3",
      "display_name": "Python 3"
    },
    "language_info": {
      "name": "python"
    }
  },
  "cells": [
    {
      "cell_type": "markdown",
      "metadata": {
        "id": "view-in-github",
        "colab_type": "text"
      },
      "source": [
        "<a href=\"https://colab.research.google.com/github/archyyu/GPT-from-MLP-to-RNN-to-Transformer/blob/main/studyLSTM1.ipynb\" target=\"_parent\"><img src=\"https://colab.research.google.com/assets/colab-badge.svg\" alt=\"Open In Colab\"/></a>"
      ]
    },
    {
      "cell_type": "code",
      "execution_count": 2,
      "metadata": {
        "colab": {
          "base_uri": "https://localhost:8080/"
        },
        "id": "Od1zoq-gONwv",
        "outputId": "b64ceef0-a303-4041-910f-bc884e11c839"
      },
      "outputs": [
        {
          "output_type": "execute_result",
          "data": {
            "text/plain": [
              "<torch._C.Generator at 0x7e13544b8330>"
            ]
          },
          "metadata": {},
          "execution_count": 2
        }
      ],
      "source": [
        "import requests\n",
        "import torch\n",
        "import torch.nn as nn\n",
        "import torch.optim as optim\n",
        "import numpy as np\n",
        "\n",
        "# Set random seed for reproducibility\n",
        "torch.manual_seed(42)"
      ]
    },
    {
      "cell_type": "code",
      "source": [
        "# Data I/O\n",
        "url = \"https://raw.githubusercontent.com/karpathy/char-rnn/master/data/tinyshakespeare/input.txt\"\n",
        "#url = \"https://raw.githubusercontent.com/archyyu/publicResource/main/google.dev.en\"\n",
        "#url = \"https://raw.githubusercontent.com/tinygrad/tinygrad/master/tinygrad/tensor.py\"\n",
        "#url = \"https://raw.githubusercontent.com/archyyu/publicResource/main/KDE4.en-es.en\"\n",
        "#url = \"https://raw.githubusercontent.com/archyyu/publicResource/main/js\"\n",
        "response = requests.get(url)\n",
        "data = response.text\n",
        "\n",
        "chars = list(set(data))\n",
        "data_size, vocab_size = len(data), len(chars)\n",
        "print(f'data has {data_size} characters, {vocab_size} unique.')\n",
        "\n",
        "char_to_ix = {ch: i for i, ch in enumerate(chars)}\n",
        "ix_to_char = {i: ch for i, ch in enumerate(chars)}"
      ],
      "metadata": {
        "colab": {
          "base_uri": "https://localhost:8080/"
        },
        "id": "3Pyxhu9pOWln",
        "outputId": "6607404e-b8f9-4e7e-fcf5-8c2125e22a23"
      },
      "execution_count": null,
      "outputs": [
        {
          "output_type": "stream",
          "name": "stdout",
          "text": [
            "data has 1115394 characters, 65 unique.\n"
          ]
        }
      ]
    },
    {
      "cell_type": "code",
      "source": [
        "# Hyperparameters\n",
        "hidden_size = 100\n",
        "embedding_dim = 50\n",
        "seq_length = 25\n",
        "learning_rate = 0.005\n",
        "batch_size = 20"
      ],
      "metadata": {
        "id": "mWSLiGv2OX8L"
      },
      "execution_count": null,
      "outputs": []
    },
    {
      "cell_type": "code",
      "source": [
        "import torch\n",
        "import torch.nn as nn\n",
        "\n",
        "class LSTMCell(nn.Module):\n",
        "  def __init__(self, input_size, embedding_size, hidden_size):\n",
        "    super(LSTMCell, self).__init__()\n",
        "    self.emb = nn.Embedding(input_size, embedding_size)\n",
        "    self.W_f = nn.Linear(input_size, hidden_size, bias=False)\n",
        "    self.h_f = nn.Linear(hidden_size, hidden_size, bias=False)\n",
        "    self.b_f = nn.Parameter(torch.zeros(hidden_size))\n",
        "\n",
        "    # Parameters for Input Gate\n",
        "    self.W_i = nn.Linear(input_size, hidden_size, bias=False)\n",
        "    self.h_i = nn.Linear(hidden_size, hidden_size, bias=False)\n",
        "    self.b_i = nn.Parameter(torch.zeros(hidden_size))\n",
        "\n",
        "    # Parameters for Candidate Cell State\n",
        "    self.W_C = nn.Linear(input_size, hidden_size, bias=False)\n",
        "    self.h_C = nn.Linear(hidden_size, hidden_size, bias=False)\n",
        "    self.b_C = nn.Parameter(torch.zeros(hidden_size))\n",
        "\n",
        "    # Parameters for Output Gate\n",
        "    self.W_o = nn.Linear(input_size, hidden_size, bias=False)\n",
        "    self.h_o = nn.Linear(hidden_size, hidden_size, bias=False)\n",
        "    self.b_o = nn.Parameter(torch.zeros(hidden_size))\n",
        "\n",
        "    self.h_o = nn.Linear(hidden_size, input_size, bias=False)\n",
        "    self.o_b = nn.Parameters(torch.zeros(hidden_size))\n",
        "\n",
        "  def forward(self, x, h, C_prev):\n",
        "    x = self.emb(x)\n",
        "    f_t = torch.sigmoid(self.W_f(x) + self.h_f(h) + self.b_f)\n",
        "    i_t = torch.sigmoid(self.W_i(x) + self.h_i(h) + self.b_i)\n",
        "    C_tilde = torch.tanh(self.W_C(x) + self.h_C(h) + self.b_C)\n",
        "    C_t = f_t * C_prev + i_t * C_tilde\n",
        "    o_t = torch.sigmoid(self.W_o(x) + self.h_o(h) + self.b_o)\n",
        "    h_t = o_t * torch.tanh(C_t)\n",
        "\n",
        "    output = torch.tanh(self.h_o(h_t) + self.o_b)\n",
        "\n",
        "    return output, h_t, C_t\n",
        "\n",
        "criterion = nn.CrossEntropyLoss()\n",
        "\n",
        "model = LSTMCell(vocab_size, embedding_dim, hidden_size)\n",
        "optimizer = optim.Adagrad(model.parameters(), lr=learning_rate)"
      ],
      "metadata": {
        "id": "E_5CVr65OYmY"
      },
      "execution_count": null,
      "outputs": []
    }
  ]
}