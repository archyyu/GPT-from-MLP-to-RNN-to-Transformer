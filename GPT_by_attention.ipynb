{
  "nbformat": 4,
  "nbformat_minor": 0,
  "metadata": {
    "colab": {
      "provenance": [],
      "authorship_tag": "ABX9TyPs/rmT7z1RB2Md2fC5fhFe",
      "include_colab_link": true
    },
    "kernelspec": {
      "name": "python3",
      "display_name": "Python 3"
    },
    "language_info": {
      "name": "python"
    }
  },
  "cells": [
    {
      "cell_type": "markdown",
      "metadata": {
        "id": "view-in-github",
        "colab_type": "text"
      },
      "source": [
        "<a href=\"https://colab.research.google.com/github/archyyu/GPT-from-MLP-to-RNN-to-Transformer/blob/main/GPT_by_attention.ipynb\" target=\"_parent\"><img src=\"https://colab.research.google.com/assets/colab-badge.svg\" alt=\"Open In Colab\"/></a>"
      ]
    },
    {
      "cell_type": "code",
      "source": [
        "import requests\n",
        "import torch\n",
        "import torch.nn as nn\n",
        "import torch.optim as optim\n",
        "import torch.nn.functional as F\n",
        "import numpy as np"
      ],
      "metadata": {
        "id": "Ma80RtZJnLKK"
      },
      "execution_count": 62,
      "outputs": []
    },
    {
      "cell_type": "code",
      "source": [
        "# Data I/O\n",
        "\n",
        "url = \"https://raw.githubusercontent.com/karpathy/char-rnn/master/data/tinyshakespeare/input.txt\"\n",
        "response = requests.get(url)\n",
        "data = response.text\n",
        "\n",
        "chars = list(set(data))\n",
        "data_size, vocab_size = len(data), len(chars)\n",
        "print(f'data has {data_size} characters, {vocab_size} unique.')\n",
        "\n",
        "char_to_ix = {ch: i for i, ch in enumerate(chars)}\n",
        "ix_to_char = {i: ch for i, ch in enumerate(chars)}"
      ],
      "metadata": {
        "colab": {
          "base_uri": "https://localhost:8080/"
        },
        "id": "oMBvKgnEpZmH",
        "outputId": "06ad83ed-db85-4425-b351-dadd56f3adc1"
      },
      "execution_count": 63,
      "outputs": [
        {
          "output_type": "stream",
          "name": "stdout",
          "text": [
            "data has 1115394 characters, 65 unique.\n"
          ]
        }
      ]
    },
    {
      "cell_type": "code",
      "execution_count": 64,
      "metadata": {
        "id": "ZJV3ttBFlGsH"
      },
      "outputs": [],
      "source": [
        "class Head(nn.Module):\n",
        "  def __init__(self, input_size, sequence_length, head_size):\n",
        "    super(Head, self).__init__()\n",
        "    self.C = input_size\n",
        "    self.L = sequence_length\n",
        "    self.head_size = head_size\n",
        "    self.q = nn.Linear(self.C, head_size, bias=False)\n",
        "    self.k = nn.Linear(self.C, head_size, bias=False)\n",
        "    self.v = nn.Linear(self.C, head_size, bias=False)\n",
        "\n",
        "  def forward(self, x):\n",
        "    q = self.q(x)\n",
        "    k = self.k(x)\n",
        "    v = self.v(x)\n",
        "\n",
        "    wei = q @ k.transpose(-2, -1) * (self.head_size ** -0.5)\n",
        "    tril = torch.tril(torch.ones(self.L, self.L))\n",
        "    wei = wei.masked_fill(tril == 0, float('-inf'))\n",
        "    wei = F.softmax(wei, dim=-1)\n",
        "\n",
        "    out = wei @ v\n",
        "    return out\n"
      ]
    },
    {
      "cell_type": "code",
      "source": [
        "class MultiHeadAttention(nn.Module):\n",
        "  def __init__(self, num_heads, input_size, sequence_length, head_size):\n",
        "    super(MultiHeadAttention, self).__init__()\n",
        "    self.num_heads = num_heads\n",
        "\n",
        "    self.heads = nn.ModuleList([\n",
        "        Head(input_size, sequence_length, head_size) for _ in range(num_heads)\n",
        "    ])\n",
        "\n",
        "    self.final_linear = nn.Linear(num_heads * head_size, input_size)\n",
        "    self.relu = nn.ReLU()\n",
        "\n",
        "  def forward(self, x):\n",
        "\n",
        "    head_outputs = [head(x) for head in self.heads]\n",
        "    concatenated_output = torch.cat(head_outputs, dim=-1)\n",
        "    final_output = self.relu(self.final_linear(concatenated_output))\n",
        "\n",
        "    return final_output"
      ],
      "metadata": {
        "id": "eKQXoXVIx2Vd"
      },
      "execution_count": 65,
      "outputs": []
    },
    {
      "cell_type": "code",
      "source": [
        "class BlockAttention(nn.Module):\n",
        "  def __init__(self, num_heads, input_size, sequence_length, head_size):\n",
        "    super(BlockAttention, self).__init__()\n",
        "    self.multiheads = MultiHeadAttention(num_heads, input_size, sequence_length, head_size)\n",
        "    self.norm = nn.LayerNorm(input_size)\n",
        "\n",
        "  def forward(self, x):\n",
        "    inter_result = x + self.multiheads(x)\n",
        "    final_output = self.norm(x + inter_result)\n",
        "    return final_output"
      ],
      "metadata": {
        "id": "F7ZayT3ElZGQ"
      },
      "execution_count": 66,
      "outputs": []
    },
    {
      "cell_type": "code",
      "source": [
        "class Decoder(nn.Module):\n",
        "  def __init__(self, num_heads, vocab_size, embedding_size, sequence_length, head_size):\n",
        "    super(Decoder, self).__init__()\n",
        "\n",
        "    self.em = nn.Embedding(vocab_size, embedding_size)\n",
        "\n",
        "    self.blocks = nn.ModuleList([BlockAttention(num_heads, embedding_size, sequence_length, head_size) for _ in range(4)])\n",
        "    self.fw = nn.Linear(sequence_length * embedding_size, vocab_size, bias=False)\n",
        "\n",
        "  def forward(self, x):\n",
        "    x = self.em(x)\n",
        "    for block in self.blocks:\n",
        "      x = block(x)\n",
        "    B,T,C = x.shape\n",
        "    x = x.view(B,1,T*C)\n",
        "    return self.fw(x)"
      ],
      "metadata": {
        "id": "WrLQtCOHnti1"
      },
      "execution_count": 85,
      "outputs": []
    },
    {
      "cell_type": "code",
      "source": [
        "batch_size = 8\n",
        "sequence_length = 8\n",
        "input_size = 32\n",
        "num_heads = 4\n",
        "\n",
        "head_size = 12\n",
        "\n",
        "# Example input tensor x = torch.randn(B,T,C)\n",
        "x = torch.randn(batch_size, sequence_length, input_size)\n",
        "\n",
        "# Initialize the multi Head\n",
        "# head = MultiHeadAttention(num_heads, input_size, sequence_length, head_size)\n",
        "\n",
        "head = Decoder(num_heads, input_size, sequence_length, head_size)\n",
        "\n",
        "# Forward pass\n",
        "print(x.shape)\n",
        "output = head(x)\n",
        "\n",
        "print(output.shape)"
      ],
      "metadata": {
        "id": "LrFqLVe-ozFs"
      },
      "execution_count": null,
      "outputs": []
    },
    {
      "cell_type": "code",
      "source": [
        "# Hyperparameters\n",
        "hidden_size = 100\n",
        "embedding_dim = 20\n",
        "seq_length = 8\n",
        "learning_rate = 1e-1\n",
        "batch_size = 20\n",
        "num_heads = 4\n",
        "head_size = 12\n",
        "\n",
        "criterion = nn.CrossEntropyLoss()\n",
        "    #Decoder(num_heads, input_size, sequence_length, head_size)\n",
        "model = Decoder(num_heads, vocab_size, embedding_dim, seq_length, head_size)\n",
        "optimizer = optim.Adagrad(model.parameters(), lr=learning_rate)"
      ],
      "metadata": {
        "id": "z5ONskhX-hQK"
      },
      "execution_count": 87,
      "outputs": []
    },
    {
      "cell_type": "code",
      "source": [
        "def generate_mini_batch():\n",
        "  # Assuming batch_size is a variable representing the desired batch size\n",
        "  # and data is your input sequence data\n",
        "\n",
        "  # Initialize lists to store input sequences and corresponding targets for the minibatch\n",
        "  batch_inputs = []\n",
        "  batch_targets = []\n",
        "\n",
        "  # Loop to generate the minibatch\n",
        "  for _ in range(batch_size):\n",
        "    # Randomly select a starting point for the sequence\n",
        "    p = np.random.randint(0, len(data) - seq_length - 1)\n",
        "\n",
        "    # Extract a sequence of characters and convert them to indices\n",
        "    inputs = torch.tensor([char_to_ix[ch] for ch in data[p:p + seq_length]], dtype=torch.long).view(1, -1)\n",
        "\n",
        "    # Extract the target character and convert it to an index\n",
        "    target = torch.tensor([char_to_ix[data[p + seq_length]]], dtype=torch.long).view(1, -1)\n",
        "\n",
        "    # Append the input sequence and target to the minibatch lists\n",
        "    batch_inputs.append(inputs)\n",
        "    batch_targets.append(target)\n",
        "\n",
        "  # Combine the lists into tensors to form the minibatch\n",
        "  minibatch_inputs = torch.cat(batch_inputs, dim=0)\n",
        "  minibatch_targets = torch.cat(batch_targets, dim=0)\n",
        "  return minibatch_inputs, minibatch_targets"
      ],
      "metadata": {
        "id": "eH_L71Qo9i4v"
      },
      "execution_count": 88,
      "outputs": []
    },
    {
      "cell_type": "code",
      "source": [
        "# Training loop\n",
        "stopi = []\n",
        "lossi = []\n",
        "num_iterations = 5\n",
        "for iteration in range(num_iterations):\n",
        "\n",
        "  for p in range(len(data) - seq_length):\n",
        "\n",
        "    # inputs = torch.tensor([char_to_ix[ch] for ch in data[p:p + seq_length]], dtype=torch.long).view(1, -1)\n",
        "    # targets = torch.tensor([char_to_ix[ch] for ch in data[p + seq_length]], dtype=torch.long).view(-1)\n",
        "\n",
        "    inputs, targets = generate_mini_batch()\n",
        "    optimizer.zero_grad()\n",
        "    predict_char = model(inputs)\n",
        "\n",
        "    loss = criterion(predict_char.view(-1, 65), targets.view(-1))\n",
        "\n",
        "    loss.backward()\n",
        "\n",
        "    for param in model.parameters():\n",
        "      if param.grad is not None:\n",
        "        param.grad.data.clamp_(-5, 5)\n",
        "\n",
        "    optimizer.step()\n",
        "\n",
        "    if p % 2000 == 0:\n",
        "      print(f'Iteration {(iteration + 1) * p}, Loss: {loss.item()}')\n",
        "      stopi.append((iteration + 1) * p)\n",
        "      lossi.append(loss.item())"
      ],
      "metadata": {
        "colab": {
          "base_uri": "https://localhost:8080/"
        },
        "id": "NRjINVa0-ZbW",
        "outputId": "a3073e30-6390-4b74-d795-7c60b46c655f"
      },
      "execution_count": null,
      "outputs": [
        {
          "output_type": "stream",
          "name": "stdout",
          "text": [
            "Iteration 0, Loss: 2.463075876235962\n"
          ]
        }
      ]
    },
    {
      "cell_type": "code",
      "source": [
        "start = \"First Citizen\"\n",
        "\n",
        "for i in range(1000):\n",
        "  lll = start[-seq_length:]\n",
        "  ll = torch.tensor([char_to_ix[ch] for ch in lll], dtype=torch.long).view(1, -1)\n",
        "  outputs = model(ll)\n",
        "  p = nn.functional.softmax(outputs, dim=-1).detach().numpy().ravel()\n",
        "  ix = np.random.choice(range(vocab_size), p=p)\n",
        "  ix = torch.tensor(ix, dtype=torch.long).view(1, 1)\n",
        "  start += ix_to_char[ix[0][0].item()]\n",
        "\n",
        "print(start)\n"
      ],
      "metadata": {
        "colab": {
          "base_uri": "https://localhost:8080/"
        },
        "id": "FpgZG9toDSdb",
        "outputId": "d1856858-d1c1-4295-888c-e0fe9cba86e2"
      },
      "execution_count": 112,
      "outputs": [
        {
          "output_type": "stream",
          "name": "stdout",
          "text": [
            "First Citizends?\n",
            "Thisin stath trorin therst epe!\n",
            "I wel bomy shark,\n",
            "Owand thatilg lidgeg, I c, Ruvin to\n",
            "The's aw thy his hly mr aow the rad secents uuthes.\n",
            "\n",
            "FOROM:\n",
            "Anch\n",
            "Me Himquti: Marepre, ror wrsolegheg, our Sordarerd To, ce lime,\n",
            "The\n",
            "The EKube sowe he dvallde\n",
            "Therese,\n",
            "lE wevurd haref\n",
            "wy uu haves:\n",
            "Gre The mere'ces beverneg,\n",
            "he tobssnt bed; at noin th art's. Rnd t, beo fore,\n",
            "Thais , aseswed,\n",
            "Ald thing, The prat.\n",
            "\n",
            "LUCEPIONRE:\n",
            "Oou, alermla?\n",
            "\n",
            "GLE MIO:\n",
            "OTEN SeNR maig,\n",
            "To mure! I lakd co tele vert werle.\n",
            "As the thad ha burann fiay asstunen: the llis med; are douns the ke resthild ald\n",
            "Brt come.\n",
            "NPAnd:\n",
            "Heran it tee.\n",
            "CLANIY:\n",
            "ADToos Kevefere stagr wor, hou f ansorn;\n",
            "Ast y, lo ntow inchas re ofd ar hatr sige and the hy y tercar ee shice von tiell.\n",
            "\n",
            "GRANTE:\n",
            "If er caponeklatis sie the ove kead, wit beade. Inthit boow ur tot ys med bepotad se fore, ill ove goubu nest dillA ha Tere,, ghow I died; the my s y arveas, ruris\n",
            "Btte foove, Thate woursnye: werellt toy brerea, an tt bo t weve theu ly in the ko keich hou \n"
          ]
        }
      ]
    }
  ]
}