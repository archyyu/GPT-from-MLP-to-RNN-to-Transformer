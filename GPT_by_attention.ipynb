{
  "nbformat": 4,
  "nbformat_minor": 0,
  "metadata": {
    "colab": {
      "provenance": [],
      "authorship_tag": "ABX9TyN+O17D+gSKt738uYi5I4yZ",
      "include_colab_link": true
    },
    "kernelspec": {
      "name": "python3",
      "display_name": "Python 3"
    },
    "language_info": {
      "name": "python"
    }
  },
  "cells": [
    {
      "cell_type": "markdown",
      "metadata": {
        "id": "view-in-github",
        "colab_type": "text"
      },
      "source": [
        "<a href=\"https://colab.research.google.com/github/archyyu/GPT-from-MLP-to-RNN-to-Transformer/blob/main/GPT_by_attention.ipynb\" target=\"_parent\"><img src=\"https://colab.research.google.com/assets/colab-badge.svg\" alt=\"Open In Colab\"/></a>"
      ]
    },
    {
      "cell_type": "code",
      "source": [
        "import torch\n",
        "import torch.nn as nn\n",
        "import torch.optim as optim\n",
        "import torch.nn.functional as F"
      ],
      "metadata": {
        "id": "Ma80RtZJnLKK"
      },
      "execution_count": 2,
      "outputs": []
    },
    {
      "cell_type": "code",
      "execution_count": 7,
      "metadata": {
        "id": "ZJV3ttBFlGsH"
      },
      "outputs": [],
      "source": [
        "class Head(nn.Module):\n",
        "  def __init__(self, T, L, q_size, k_size, v_size):\n",
        "    super(Head, self).__init__()\n",
        "    self.T = T\n",
        "    self.q_lin = nn.Linear(L, q_size, bias=False)\n",
        "    self.k_lin = nn.Linear(L, k_size, bias=False)\n",
        "    self.v_lin = nn.Linear(L, v_size, bias=False)\n",
        "\n",
        "  def forward(self, x):\n",
        "    q = self.q_lin(x)\n",
        "    k = self.k_lin(x)\n",
        "    v = self.v_lin(x)\n",
        "\n",
        "    wei = q @ k.transpose(-2, -1)\n",
        "    tril = torch.tril(torch.ones(self.T, self.T))\n",
        "    wei = wei.masked_fill(tril == 0, float('-inf'))\n",
        "\n",
        "    print(v.shape)\n",
        "\n",
        "    x = x.transpose(-2, -1) @ v\n",
        "\n",
        "    out = wei @ x\n",
        "    return out\n",
        ""
      ]
    },
    {
      "cell_type": "code",
      "source": [
        "import torch\n",
        "\n",
        "batch_size = 4\n",
        "sequence_length = 8\n",
        "input_size = 32\n",
        "\n",
        "query_size = 12\n",
        "key_size = 12\n",
        "value_size = 12\n",
        "\n",
        "# Example input tensor\n",
        "x = torch.rand((batch_size, sequence_length, input_size))\n",
        "\n",
        "# Initialize the Head\n",
        "head = Head(T=sequence_length, L=input_size, q_size=query_size, k_size=key_size, v_size=value_size)\n",
        "\n",
        "print(x)\n",
        "print(x.shape)\n",
        "# Forward pass\n",
        "output = head(x)\n",
        "\n",
        "print(output)"
      ],
      "metadata": {
        "colab": {
          "base_uri": "https://localhost:8080/",
          "height": 965
        },
        "id": "LrFqLVe-ozFs",
        "outputId": "ab307a6e-7b5c-4fae-df27-41998577ce27"
      },
      "execution_count": 8,
      "outputs": [
        {
          "output_type": "stream",
          "name": "stdout",
          "text": [
            "tensor([[[0.3663, 0.9577, 0.8602,  ..., 0.6705, 0.0727, 0.6693],\n",
            "         [0.5297, 0.6351, 0.9507,  ..., 0.7619, 0.8978, 0.8029],\n",
            "         [0.8117, 0.5227, 0.2399,  ..., 0.4074, 0.8750, 0.2401],\n",
            "         ...,\n",
            "         [0.4820, 0.5803, 0.9357,  ..., 0.4351, 0.0046, 0.1756],\n",
            "         [0.2501, 0.7310, 0.4731,  ..., 0.7230, 0.7339, 0.8651],\n",
            "         [0.4218, 0.7795, 0.0920,  ..., 0.4357, 0.1460, 0.4199]],\n",
            "\n",
            "        [[0.0218, 0.6610, 0.3466,  ..., 0.4434, 0.2643, 0.8596],\n",
            "         [0.9723, 0.8317, 0.4968,  ..., 0.9106, 0.2022, 0.9625],\n",
            "         [0.0578, 0.7876, 0.7551,  ..., 0.5506, 0.9513, 0.6883],\n",
            "         ...,\n",
            "         [0.0246, 0.9930, 0.2532,  ..., 0.1134, 0.9103, 0.0022],\n",
            "         [0.0943, 0.8640, 0.0678,  ..., 0.1344, 0.9289, 0.9701],\n",
            "         [0.0760, 0.7937, 0.8527,  ..., 0.5665, 0.6859, 0.5337]],\n",
            "\n",
            "        [[0.0387, 0.8536, 0.7531,  ..., 0.3932, 0.6675, 0.7763],\n",
            "         [0.0737, 0.1116, 0.6222,  ..., 0.0717, 0.7660, 0.7958],\n",
            "         [0.8710, 0.1102, 0.3104,  ..., 0.0908, 0.3009, 0.4387],\n",
            "         ...,\n",
            "         [0.3428, 0.2455, 0.6905,  ..., 0.6599, 0.8002, 0.7187],\n",
            "         [0.6883, 0.6251, 0.2402,  ..., 0.0404, 0.4730, 0.4031],\n",
            "         [0.2802, 0.2549, 0.1221,  ..., 0.8600, 0.5118, 0.9883]],\n",
            "\n",
            "        [[0.5906, 0.7908, 0.7584,  ..., 0.6134, 0.6018, 0.5462],\n",
            "         [0.6834, 0.6075, 0.0246,  ..., 0.1029, 0.7758, 0.2428],\n",
            "         [0.8927, 0.2505, 0.2896,  ..., 0.1388, 0.5758, 0.9957],\n",
            "         ...,\n",
            "         [0.3718, 0.5529, 0.6695,  ..., 0.9318, 0.4832, 0.4156],\n",
            "         [0.0437, 0.9097, 0.6212,  ..., 0.4410, 0.5785, 0.1832],\n",
            "         [0.8555, 0.6563, 0.7012,  ..., 0.9358, 0.2122, 0.2905]]])\n",
            "torch.Size([4, 8, 32])\n",
            "torch.Size([4, 8, 12])\n"
          ]
        },
        {
          "output_type": "error",
          "ename": "RuntimeError",
          "evalue": "Expected size for first two dimensions of batch2 tensor to be: [4, 8] but got: [4, 32].",
          "traceback": [
            "\u001b[0;31m---------------------------------------------------------------------------\u001b[0m",
            "\u001b[0;31mRuntimeError\u001b[0m                              Traceback (most recent call last)",
            "\u001b[0;32m<ipython-input-8-8e92b71dee68>\u001b[0m in \u001b[0;36m<cell line: 21>\u001b[0;34m()\u001b[0m\n\u001b[1;32m     19\u001b[0m \u001b[0mprint\u001b[0m\u001b[0;34m(\u001b[0m\u001b[0mx\u001b[0m\u001b[0;34m.\u001b[0m\u001b[0mshape\u001b[0m\u001b[0;34m)\u001b[0m\u001b[0;34m\u001b[0m\u001b[0;34m\u001b[0m\u001b[0m\n\u001b[1;32m     20\u001b[0m \u001b[0;31m# Forward pass\u001b[0m\u001b[0;34m\u001b[0m\u001b[0;34m\u001b[0m\u001b[0m\n\u001b[0;32m---> 21\u001b[0;31m \u001b[0moutput\u001b[0m \u001b[0;34m=\u001b[0m \u001b[0mhead\u001b[0m\u001b[0;34m(\u001b[0m\u001b[0mx\u001b[0m\u001b[0;34m)\u001b[0m\u001b[0;34m\u001b[0m\u001b[0;34m\u001b[0m\u001b[0m\n\u001b[0m\u001b[1;32m     22\u001b[0m \u001b[0;34m\u001b[0m\u001b[0m\n\u001b[1;32m     23\u001b[0m \u001b[0mprint\u001b[0m\u001b[0;34m(\u001b[0m\u001b[0moutput\u001b[0m\u001b[0;34m)\u001b[0m\u001b[0;34m\u001b[0m\u001b[0;34m\u001b[0m\u001b[0m\n",
            "\u001b[0;32m/usr/local/lib/python3.10/dist-packages/torch/nn/modules/module.py\u001b[0m in \u001b[0;36m_wrapped_call_impl\u001b[0;34m(self, *args, **kwargs)\u001b[0m\n\u001b[1;32m   1516\u001b[0m             \u001b[0;32mreturn\u001b[0m \u001b[0mself\u001b[0m\u001b[0;34m.\u001b[0m\u001b[0m_compiled_call_impl\u001b[0m\u001b[0;34m(\u001b[0m\u001b[0;34m*\u001b[0m\u001b[0margs\u001b[0m\u001b[0;34m,\u001b[0m \u001b[0;34m**\u001b[0m\u001b[0mkwargs\u001b[0m\u001b[0;34m)\u001b[0m  \u001b[0;31m# type: ignore[misc]\u001b[0m\u001b[0;34m\u001b[0m\u001b[0;34m\u001b[0m\u001b[0m\n\u001b[1;32m   1517\u001b[0m         \u001b[0;32melse\u001b[0m\u001b[0;34m:\u001b[0m\u001b[0;34m\u001b[0m\u001b[0;34m\u001b[0m\u001b[0m\n\u001b[0;32m-> 1518\u001b[0;31m             \u001b[0;32mreturn\u001b[0m \u001b[0mself\u001b[0m\u001b[0;34m.\u001b[0m\u001b[0m_call_impl\u001b[0m\u001b[0;34m(\u001b[0m\u001b[0;34m*\u001b[0m\u001b[0margs\u001b[0m\u001b[0;34m,\u001b[0m \u001b[0;34m**\u001b[0m\u001b[0mkwargs\u001b[0m\u001b[0;34m)\u001b[0m\u001b[0;34m\u001b[0m\u001b[0;34m\u001b[0m\u001b[0m\n\u001b[0m\u001b[1;32m   1519\u001b[0m \u001b[0;34m\u001b[0m\u001b[0m\n\u001b[1;32m   1520\u001b[0m     \u001b[0;32mdef\u001b[0m \u001b[0m_call_impl\u001b[0m\u001b[0;34m(\u001b[0m\u001b[0mself\u001b[0m\u001b[0;34m,\u001b[0m \u001b[0;34m*\u001b[0m\u001b[0margs\u001b[0m\u001b[0;34m,\u001b[0m \u001b[0;34m**\u001b[0m\u001b[0mkwargs\u001b[0m\u001b[0;34m)\u001b[0m\u001b[0;34m:\u001b[0m\u001b[0;34m\u001b[0m\u001b[0;34m\u001b[0m\u001b[0m\n",
            "\u001b[0;32m/usr/local/lib/python3.10/dist-packages/torch/nn/modules/module.py\u001b[0m in \u001b[0;36m_call_impl\u001b[0;34m(self, *args, **kwargs)\u001b[0m\n\u001b[1;32m   1525\u001b[0m                 \u001b[0;32mor\u001b[0m \u001b[0m_global_backward_pre_hooks\u001b[0m \u001b[0;32mor\u001b[0m \u001b[0m_global_backward_hooks\u001b[0m\u001b[0;34m\u001b[0m\u001b[0;34m\u001b[0m\u001b[0m\n\u001b[1;32m   1526\u001b[0m                 or _global_forward_hooks or _global_forward_pre_hooks):\n\u001b[0;32m-> 1527\u001b[0;31m             \u001b[0;32mreturn\u001b[0m \u001b[0mforward_call\u001b[0m\u001b[0;34m(\u001b[0m\u001b[0;34m*\u001b[0m\u001b[0margs\u001b[0m\u001b[0;34m,\u001b[0m \u001b[0;34m**\u001b[0m\u001b[0mkwargs\u001b[0m\u001b[0;34m)\u001b[0m\u001b[0;34m\u001b[0m\u001b[0;34m\u001b[0m\u001b[0m\n\u001b[0m\u001b[1;32m   1528\u001b[0m \u001b[0;34m\u001b[0m\u001b[0m\n\u001b[1;32m   1529\u001b[0m         \u001b[0;32mtry\u001b[0m\u001b[0;34m:\u001b[0m\u001b[0;34m\u001b[0m\u001b[0;34m\u001b[0m\u001b[0m\n",
            "\u001b[0;32m<ipython-input-7-0e8c41ae1485>\u001b[0m in \u001b[0;36mforward\u001b[0;34m(self, x)\u001b[0m\n\u001b[1;32m     20\u001b[0m     \u001b[0mx\u001b[0m \u001b[0;34m=\u001b[0m \u001b[0mx\u001b[0m\u001b[0;34m.\u001b[0m\u001b[0mtranspose\u001b[0m\u001b[0;34m(\u001b[0m\u001b[0;34m-\u001b[0m\u001b[0;36m2\u001b[0m\u001b[0;34m,\u001b[0m \u001b[0;34m-\u001b[0m\u001b[0;36m1\u001b[0m\u001b[0;34m)\u001b[0m \u001b[0;34m@\u001b[0m \u001b[0mv\u001b[0m\u001b[0;34m\u001b[0m\u001b[0;34m\u001b[0m\u001b[0m\n\u001b[1;32m     21\u001b[0m \u001b[0;34m\u001b[0m\u001b[0m\n\u001b[0;32m---> 22\u001b[0;31m     \u001b[0mout\u001b[0m \u001b[0;34m=\u001b[0m \u001b[0mwei\u001b[0m \u001b[0;34m@\u001b[0m \u001b[0mx\u001b[0m\u001b[0;34m\u001b[0m\u001b[0;34m\u001b[0m\u001b[0m\n\u001b[0m\u001b[1;32m     23\u001b[0m     \u001b[0;32mreturn\u001b[0m \u001b[0mout\u001b[0m\u001b[0;34m\u001b[0m\u001b[0;34m\u001b[0m\u001b[0m\n\u001b[1;32m     24\u001b[0m \u001b[0;34m\u001b[0m\u001b[0m\n",
            "\u001b[0;31mRuntimeError\u001b[0m: Expected size for first two dimensions of batch2 tensor to be: [4, 8] but got: [4, 32]."
          ]
        }
      ]
    }
  ]
}