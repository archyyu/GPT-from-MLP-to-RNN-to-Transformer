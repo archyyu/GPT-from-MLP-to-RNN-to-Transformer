{
  "nbformat": 4,
  "nbformat_minor": 0,
  "metadata": {
    "colab": {
      "provenance": [],
      "authorship_tag": "ABX9TyPnkwDCZudI7wEoV+H2lCCK",
      "include_colab_link": true
    },
    "kernelspec": {
      "name": "python3",
      "display_name": "Python 3"
    },
    "language_info": {
      "name": "python"
    }
  },
  "cells": [
    {
      "cell_type": "markdown",
      "metadata": {
        "id": "view-in-github",
        "colab_type": "text"
      },
      "source": [
        "<a href=\"https://colab.research.google.com/github/archyyu/GPT-from-MLP-to-RNN-to-Transformer/blob/main/GPT_by_attention.ipynb\" target=\"_parent\"><img src=\"https://colab.research.google.com/assets/colab-badge.svg\" alt=\"Open In Colab\"/></a>"
      ]
    },
    {
      "cell_type": "code",
      "source": [
        "import torch\n",
        "import torch.nn as nn\n",
        "import torch.optim as optim\n",
        "import torch.nn.functional as F"
      ],
      "metadata": {
        "id": "Ma80RtZJnLKK"
      },
      "execution_count": 1,
      "outputs": []
    },
    {
      "cell_type": "code",
      "execution_count": 2,
      "metadata": {
        "id": "ZJV3ttBFlGsH"
      },
      "outputs": [],
      "source": [
        "class Head(nn.Module):\n",
        "  def __init__(self, input_size, sequence_length, head_size):\n",
        "    super(Head, self).__init__()\n",
        "    self.C = input_size\n",
        "    self.L = sequence_length\n",
        "    self.head_size = head_size\n",
        "    self.q = nn.Linear(self.C, head_size, bias=False)\n",
        "    self.k = nn.Linear(self.C, head_size, bias=False)\n",
        "    self.v = nn.Linear(self.C, head_size, bias=False)\n",
        "\n",
        "  def forward(self, x):\n",
        "    q = self.q(x)\n",
        "    k = self.k(x)\n",
        "    v = self.v(x)\n",
        "\n",
        "    wei = q @ k.transpose(-2, -1)\n",
        "    tril = torch.tril(torch.ones(self.L, self.L))\n",
        "    wei = wei.masked_fill(tril == 0, float('-inf'))\n",
        "\n",
        "    out = wei @ v\n",
        "    return out\n"
      ]
    },
    {
      "cell_type": "code",
      "source": [
        "class MultiHeadAttention(nn.Module):\n",
        "  def __init__(self, num_heads, input_size, sequence_length, head_size):\n",
        "    super(MultiHeadAttention, self).__init__()\n",
        "    self.num_heads = num_heads\n",
        "\n",
        "    self.heads = nn.ModuleList([\n",
        "        Head(input_size, sequence_length, head_size) for _ in range(num_heads)\n",
        "    ])\n",
        "\n",
        "    self.final_linear = nn.Linear(num_heads * head_size, input_size)\n",
        "\n",
        "  def forward(self, x):\n",
        "\n",
        "    head_outputs = [head(x) for head in self.heads]\n",
        "    concatenated_output = torch.cat(head_outputs, dim=-1)\n",
        "    final_output = self.final_linear(concatenated_output)\n",
        "\n",
        "    return final_output"
      ],
      "metadata": {
        "id": "eKQXoXVIx2Vd"
      },
      "execution_count": 3,
      "outputs": []
    },
    {
      "cell_type": "code",
      "source": [
        "class BlockAttention(nn.Module):\n",
        "  def __init__(self, num_heads, input_size, sequence_length, head_size):\n",
        "    super(BlockAttention, self).__init__()\n",
        "    self.multiheads = MultiHeadAttention(num_heads, input_size, sequence_length, head_size)\n",
        "    self.norm = nn.LayerNorm(input_size)\n",
        "\n",
        "  def forward(self, x):\n",
        "    inter_result = self.multiheads(x)\n",
        "    final_output = self.norm(x + inter_result)\n",
        "    return final_output"
      ],
      "metadata": {
        "id": "F7ZayT3ElZGQ"
      },
      "execution_count": 7,
      "outputs": []
    },
    {
      "cell_type": "code",
      "source": [
        "import torch\n",
        "\n",
        "batch_size = 4\n",
        "sequence_length = 8\n",
        "input_size = 32\n",
        "num_heads = 4\n",
        "\n",
        "head_size = 12\n",
        "\n",
        "# Example input tensor x = torch.randn(B,T,C)\n",
        "x = torch.randn(batch_size, sequence_length, input_size)\n",
        "\n",
        "# Initialize the multi Head\n",
        "# head = MultiHeadAttention(num_heads, input_size, sequence_length, head_size)\n",
        "\n",
        "#\n",
        "head = BlockAttention(num_heads, input_size, sequence_length, head_size)\n",
        "\n",
        "# Forward pass\n",
        "print(x.shape)\n",
        "output = head(x)\n",
        "\n",
        "print(output.shape)"
      ],
      "metadata": {
        "colab": {
          "base_uri": "https://localhost:8080/"
        },
        "id": "LrFqLVe-ozFs",
        "outputId": "1e41cfb2-f534-440f-938c-8b0e32e1f873"
      },
      "execution_count": 9,
      "outputs": [
        {
          "output_type": "stream",
          "name": "stdout",
          "text": [
            "torch.Size([4, 8, 32])\n",
            "torch.Size([4, 8, 32])\n"
          ]
        }
      ]
    }
  ]
}