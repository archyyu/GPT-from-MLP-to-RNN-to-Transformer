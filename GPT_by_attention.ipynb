{
  "cells": [
    {
      "cell_type": "markdown",
      "metadata": {
        "id": "view-in-github",
        "colab_type": "text"
      },
      "source": [
        "<a href=\"https://colab.research.google.com/github/archyyu/GPT-from-MLP-to-RNN-to-Transformer/blob/main/GPT_by_attention.ipynb\" target=\"_parent\"><img src=\"https://colab.research.google.com/assets/colab-badge.svg\" alt=\"Open In Colab\"/></a>"
      ]
    },
    {
      "cell_type": "code",
      "execution_count": 5,
      "metadata": {
        "id": "Ma80RtZJnLKK"
      },
      "outputs": [],
      "source": [
        "import requests\n",
        "import torch\n",
        "import torch.nn as nn\n",
        "import torch.optim as optim\n",
        "import torch.nn.functional as F\n",
        "import numpy as np\n",
        "import math"
      ]
    },
    {
      "cell_type": "code",
      "execution_count": 2,
      "metadata": {
        "colab": {
          "base_uri": "https://localhost:8080/"
        },
        "id": "oMBvKgnEpZmH",
        "outputId": "af6333b1-0b2d-485c-f3e8-8ec81d6b5b95"
      },
      "outputs": [
        {
          "output_type": "stream",
          "name": "stdout",
          "text": [
            "data has 1115394 characters, 65 unique.\n"
          ]
        }
      ],
      "source": [
        "# Data I/O\n",
        "\n",
        "url = \"https://raw.githubusercontent.com/karpathy/char-rnn/master/data/tinyshakespeare/input.txt\"\n",
        "response = requests.get(url)\n",
        "data = response.text\n",
        "\n",
        "chars = list(set(data))\n",
        "data_size, vocab_size = len(data), len(chars)\n",
        "print(f'data has {data_size} characters, {vocab_size} unique.')\n",
        "\n",
        "char_to_ix = {ch: i for i, ch in enumerate(chars)}\n",
        "ix_to_char = {i: ch for i, ch in enumerate(chars)}"
      ]
    },
    {
      "cell_type": "code",
      "execution_count": 6,
      "metadata": {
        "id": "eKQXoXVIx2Vd"
      },
      "outputs": [],
      "source": [
        "class Head(nn.Module):\n",
        "  def __init__(self, embed_size, sequence_length, head_size):\n",
        "    super(Head, self).__init__()\n",
        "    self.C = embed_size\n",
        "    self.L = sequence_length\n",
        "    self.head_size = head_size\n",
        "    self.q = nn.Linear(self.C, head_size, bias=False)\n",
        "    self.k = nn.Linear(self.C, head_size, bias=False)\n",
        "    self.v = nn.Linear(self.C, head_size, bias=False)\n",
        "\n",
        "  def forward(self, x):\n",
        "    q = self.q(x)\n",
        "    k = self.k(x)\n",
        "    v = self.v(x)\n",
        "\n",
        "    wei = q @ k.transpose(-2, -1) * (self.head_size ** -0.5)\n",
        "    tril = torch.tril(torch.ones(self.L, self.L))\n",
        "    wei = wei.masked_fill(tril == 0, float('-inf'))\n",
        "    wei = F.softmax(wei, dim=-1)\n",
        "\n",
        "    out = wei @ v\n",
        "    return out\n",
        "\n",
        "class PositionalEncoding(nn.Module):\n",
        "  def __init__(self, embedding_size, max_len=512):\n",
        "    super(PositionalEncoding, self).__init__()\n",
        "    self.encoding = torch.zeros(max_len, embedding_size)\n",
        "    position = torch.arange(0, max_len).unsqueeze(1).float()\n",
        "    div_term = torch.exp(torch.arange(0, embedding_size, 2).float() * -(math.log(10000.0) / embedding_size))\n",
        "    self.encoding[:, 0::2] = torch.sin(position * div_term)\n",
        "    self.encoding[:, 1::2] = torch.cos(position * div_term)\n",
        "    self.encoding = self.encoding.unsqueeze(0)\n",
        "\n",
        "  def forward(self, x):\n",
        "    return x + self.encoding[:, :x.size(1)].detach()\n",
        "\n",
        "\n",
        "class MultiHeadAttention(nn.Module):\n",
        "  def __init__(self, num_heads, embedding_size, sequence_length, head_size):\n",
        "    super(MultiHeadAttention, self).__init__()\n",
        "    self.num_heads = num_heads\n",
        "\n",
        "    self.heads = nn.ModuleList([\n",
        "        Head(embedding_size, sequence_length, head_size) for _ in range(num_heads)\n",
        "    ])\n",
        "\n",
        "    self.final_linear = nn.Linear(num_heads * head_size, embedding_size)\n",
        "    self.relu = nn.ReLU()\n",
        "\n",
        "  def forward(self, x):\n",
        "\n",
        "    head_outputs = [head(x) for head in self.heads]\n",
        "    concatenated_output = torch.cat(head_outputs, dim=-1)\n",
        "    final_output = self.relu(self.final_linear(concatenated_output))\n",
        "\n",
        "    return final_output\n",
        "\n",
        "class BlockAttention(nn.Module):\n",
        "  def __init__(self, num_heads, embedding_size, sequence_length, head_size):\n",
        "    super(BlockAttention, self).__init__()\n",
        "    self.pos_encode = PositionalEncoding(embedding_size)\n",
        "    self.multiheads = MultiHeadAttention(num_heads, embedding_size, sequence_length, head_size)\n",
        "    self.norm = nn.LayerNorm(embedding_size)\n",
        "\n",
        "  def forward(self, x):\n",
        "    x = self.pos_encode(x)\n",
        "    inter_result = x + self.multiheads(x)\n",
        "    final_output = self.norm(x + inter_result)\n",
        "    return final_output\n",
        "\n",
        "\n",
        "class Decoder(nn.Module):\n",
        "  def __init__(self, num_heads, vocab_size, embedding_size, sequence_length, head_size):\n",
        "    super(Decoder, self).__init__()\n",
        "\n",
        "    self.em = nn.Embedding(vocab_size, embedding_size)\n",
        "    self.pos_encode = PositionalEncoding(embedding_size)\n",
        "    self.blocks = nn.ModuleList([BlockAttention(num_heads, embedding_size, sequence_length, head_size) for _ in range(4)])\n",
        "    self.fw = nn.Linear(sequence_length * embedding_size, vocab_size, bias=False)\n",
        "\n",
        "  def forward(self, x):\n",
        "    x = self.em(x)\n",
        "    x = self.pos_encode(x)\n",
        "    for block in self.blocks:\n",
        "      x = block(x)\n",
        "    B,T,C = x.shape\n",
        "    x = x.view(B,1,T*C)\n",
        "    return self.fw(x)"
      ]
    },
    {
      "cell_type": "code",
      "execution_count": 7,
      "metadata": {
        "id": "z5ONskhX-hQK"
      },
      "outputs": [],
      "source": [
        "# Hyperparameters\n",
        "hidden_size = 100\n",
        "embedding_dim = 20\n",
        "seq_length = 8\n",
        "learning_rate = 1e-1\n",
        "batch_size = 20\n",
        "num_heads = 4\n",
        "head_size = 12\n",
        "\n",
        "criterion = nn.CrossEntropyLoss()\n",
        "    #Decoder(num_heads, input_size, sequence_length, head_size)\n",
        "model = Decoder(num_heads, vocab_size, embedding_dim, seq_length, head_size)\n",
        "optimizer = optim.Adagrad(model.parameters(), lr=learning_rate)"
      ]
    },
    {
      "cell_type": "code",
      "execution_count": 8,
      "metadata": {
        "id": "eH_L71Qo9i4v"
      },
      "outputs": [],
      "source": [
        "def generate_mini_batch():\n",
        "  # Assuming batch_size is a variable representing the desired batch size\n",
        "  # and data is your input sequence data\n",
        "\n",
        "  # Initialize lists to store input sequences and corresponding targets for the minibatch\n",
        "  batch_inputs = []\n",
        "  batch_targets = []\n",
        "\n",
        "  # Loop to generate the minibatch\n",
        "  for _ in range(batch_size):\n",
        "    # Randomly select a starting point for the sequence\n",
        "    p = np.random.randint(0, len(data) - seq_length - 1)\n",
        "\n",
        "    # Extract a sequence of characters and convert them to indices\n",
        "    inputs = torch.tensor([char_to_ix[ch] for ch in data[p:p + seq_length]], dtype=torch.long).view(1, -1)\n",
        "\n",
        "    # Extract the target character and convert it to an index\n",
        "    target = torch.tensor([char_to_ix[data[p + seq_length]]], dtype=torch.long).view(1, -1)\n",
        "\n",
        "    # Append the input sequence and target to the minibatch lists\n",
        "    batch_inputs.append(inputs)\n",
        "    batch_targets.append(target)\n",
        "\n",
        "  # Combine the lists into tensors to form the minibatch\n",
        "  minibatch_inputs = torch.cat(batch_inputs, dim=0)\n",
        "  minibatch_targets = torch.cat(batch_targets, dim=0)\n",
        "  return minibatch_inputs, minibatch_targets"
      ]
    },
    {
      "cell_type": "code",
      "execution_count": 12,
      "metadata": {
        "colab": {
          "base_uri": "https://localhost:8080/",
          "height": 566
        },
        "id": "NRjINVa0-ZbW",
        "outputId": "07cc647e-09db-46e1-dbe1-98b912af0c20"
      },
      "outputs": [
        {
          "output_type": "stream",
          "name": "stdout",
          "text": [
            "Iteration 0, Loss: 2.104527473449707\n",
            "Iteration 2000, Loss: 2.4545581340789795\n",
            "Iteration 4000, Loss: 1.8616851568222046\n",
            "Iteration 6000, Loss: 1.9712181091308594\n",
            "Iteration 8000, Loss: 1.9177078008651733\n",
            "Iteration 10000, Loss: 1.9308964014053345\n",
            "Iteration 12000, Loss: 2.578745126724243\n",
            "Iteration 14000, Loss: 2.3232109546661377\n",
            "Iteration 16000, Loss: 2.2266182899475098\n",
            "Iteration 18000, Loss: 1.9786865711212158\n"
          ]
        },
        {
          "output_type": "error",
          "ename": "KeyboardInterrupt",
          "evalue": "",
          "traceback": [
            "\u001b[0;31m---------------------------------------------------------------------------\u001b[0m",
            "\u001b[0;31mKeyboardInterrupt\u001b[0m                         Traceback (most recent call last)",
            "\u001b[0;32m<ipython-input-12-e4d71cbf6d41>\u001b[0m in \u001b[0;36m<cell line: 5>\u001b[0;34m()\u001b[0m\n\u001b[1;32m     22\u001b[0m         \u001b[0mparam\u001b[0m\u001b[0;34m.\u001b[0m\u001b[0mgrad\u001b[0m\u001b[0;34m.\u001b[0m\u001b[0mdata\u001b[0m\u001b[0;34m.\u001b[0m\u001b[0mclamp_\u001b[0m\u001b[0;34m(\u001b[0m\u001b[0;34m-\u001b[0m\u001b[0;36m5\u001b[0m\u001b[0;34m,\u001b[0m \u001b[0;36m5\u001b[0m\u001b[0;34m)\u001b[0m\u001b[0;34m\u001b[0m\u001b[0;34m\u001b[0m\u001b[0m\n\u001b[1;32m     23\u001b[0m \u001b[0;34m\u001b[0m\u001b[0m\n\u001b[0;32m---> 24\u001b[0;31m     \u001b[0moptimizer\u001b[0m\u001b[0;34m.\u001b[0m\u001b[0mstep\u001b[0m\u001b[0;34m(\u001b[0m\u001b[0;34m)\u001b[0m\u001b[0;34m\u001b[0m\u001b[0;34m\u001b[0m\u001b[0m\n\u001b[0m\u001b[1;32m     25\u001b[0m \u001b[0;34m\u001b[0m\u001b[0m\n\u001b[1;32m     26\u001b[0m     \u001b[0;32mif\u001b[0m \u001b[0mp\u001b[0m \u001b[0;34m%\u001b[0m \u001b[0;36m2000\u001b[0m \u001b[0;34m==\u001b[0m \u001b[0;36m0\u001b[0m\u001b[0;34m:\u001b[0m\u001b[0;34m\u001b[0m\u001b[0;34m\u001b[0m\u001b[0m\n",
            "\u001b[0;32m/usr/local/lib/python3.10/dist-packages/torch/optim/optimizer.py\u001b[0m in \u001b[0;36mwrapper\u001b[0;34m(*args, **kwargs)\u001b[0m\n\u001b[1;32m    371\u001b[0m                             )\n\u001b[1;32m    372\u001b[0m \u001b[0;34m\u001b[0m\u001b[0m\n\u001b[0;32m--> 373\u001b[0;31m                 \u001b[0mout\u001b[0m \u001b[0;34m=\u001b[0m \u001b[0mfunc\u001b[0m\u001b[0;34m(\u001b[0m\u001b[0;34m*\u001b[0m\u001b[0margs\u001b[0m\u001b[0;34m,\u001b[0m \u001b[0;34m**\u001b[0m\u001b[0mkwargs\u001b[0m\u001b[0;34m)\u001b[0m\u001b[0;34m\u001b[0m\u001b[0;34m\u001b[0m\u001b[0m\n\u001b[0m\u001b[1;32m    374\u001b[0m                 \u001b[0mself\u001b[0m\u001b[0;34m.\u001b[0m\u001b[0m_optimizer_step_code\u001b[0m\u001b[0;34m(\u001b[0m\u001b[0;34m)\u001b[0m\u001b[0;34m\u001b[0m\u001b[0;34m\u001b[0m\u001b[0m\n\u001b[1;32m    375\u001b[0m \u001b[0;34m\u001b[0m\u001b[0m\n",
            "\u001b[0;32m/usr/local/lib/python3.10/dist-packages/torch/optim/optimizer.py\u001b[0m in \u001b[0;36m_use_grad\u001b[0;34m(self, *args, **kwargs)\u001b[0m\n\u001b[1;32m     74\u001b[0m             \u001b[0mtorch\u001b[0m\u001b[0;34m.\u001b[0m\u001b[0mset_grad_enabled\u001b[0m\u001b[0;34m(\u001b[0m\u001b[0mself\u001b[0m\u001b[0;34m.\u001b[0m\u001b[0mdefaults\u001b[0m\u001b[0;34m[\u001b[0m\u001b[0;34m'differentiable'\u001b[0m\u001b[0;34m]\u001b[0m\u001b[0;34m)\u001b[0m\u001b[0;34m\u001b[0m\u001b[0;34m\u001b[0m\u001b[0m\n\u001b[1;32m     75\u001b[0m             \u001b[0mtorch\u001b[0m\u001b[0;34m.\u001b[0m\u001b[0m_dynamo\u001b[0m\u001b[0;34m.\u001b[0m\u001b[0mgraph_break\u001b[0m\u001b[0;34m(\u001b[0m\u001b[0;34m)\u001b[0m\u001b[0;34m\u001b[0m\u001b[0;34m\u001b[0m\u001b[0m\n\u001b[0;32m---> 76\u001b[0;31m             \u001b[0mret\u001b[0m \u001b[0;34m=\u001b[0m \u001b[0mfunc\u001b[0m\u001b[0;34m(\u001b[0m\u001b[0mself\u001b[0m\u001b[0;34m,\u001b[0m \u001b[0;34m*\u001b[0m\u001b[0margs\u001b[0m\u001b[0;34m,\u001b[0m \u001b[0;34m**\u001b[0m\u001b[0mkwargs\u001b[0m\u001b[0;34m)\u001b[0m\u001b[0;34m\u001b[0m\u001b[0;34m\u001b[0m\u001b[0m\n\u001b[0m\u001b[1;32m     77\u001b[0m         \u001b[0;32mfinally\u001b[0m\u001b[0;34m:\u001b[0m\u001b[0;34m\u001b[0m\u001b[0;34m\u001b[0m\u001b[0m\n\u001b[1;32m     78\u001b[0m             \u001b[0mtorch\u001b[0m\u001b[0;34m.\u001b[0m\u001b[0m_dynamo\u001b[0m\u001b[0;34m.\u001b[0m\u001b[0mgraph_break\u001b[0m\u001b[0;34m(\u001b[0m\u001b[0;34m)\u001b[0m\u001b[0;34m\u001b[0m\u001b[0;34m\u001b[0m\u001b[0m\n",
            "\u001b[0;32m/usr/local/lib/python3.10/dist-packages/torch/optim/adagrad.py\u001b[0m in \u001b[0;36mstep\u001b[0;34m(self, closure)\u001b[0m\n\u001b[1;32m    118\u001b[0m             \u001b[0mhas_sparse_grad\u001b[0m \u001b[0;34m=\u001b[0m \u001b[0mself\u001b[0m\u001b[0;34m.\u001b[0m\u001b[0m_init_group\u001b[0m\u001b[0;34m(\u001b[0m\u001b[0mgroup\u001b[0m\u001b[0;34m,\u001b[0m \u001b[0mparams_with_grad\u001b[0m\u001b[0;34m,\u001b[0m \u001b[0mgrads\u001b[0m\u001b[0;34m,\u001b[0m \u001b[0mstate_sums\u001b[0m\u001b[0;34m,\u001b[0m \u001b[0mstate_steps\u001b[0m\u001b[0;34m)\u001b[0m\u001b[0;34m\u001b[0m\u001b[0;34m\u001b[0m\u001b[0m\n\u001b[1;32m    119\u001b[0m \u001b[0;34m\u001b[0m\u001b[0m\n\u001b[0;32m--> 120\u001b[0;31m             adagrad(\n\u001b[0m\u001b[1;32m    121\u001b[0m                 \u001b[0mparams_with_grad\u001b[0m\u001b[0;34m,\u001b[0m\u001b[0;34m\u001b[0m\u001b[0;34m\u001b[0m\u001b[0m\n\u001b[1;32m    122\u001b[0m                 \u001b[0mgrads\u001b[0m\u001b[0;34m,\u001b[0m\u001b[0;34m\u001b[0m\u001b[0;34m\u001b[0m\u001b[0m\n",
            "\u001b[0;32m/usr/local/lib/python3.10/dist-packages/torch/optim/adagrad.py\u001b[0m in \u001b[0;36madagrad\u001b[0;34m(params, grads, state_sums, state_steps, has_sparse_grad, foreach, differentiable, lr, weight_decay, lr_decay, eps, maximize)\u001b[0m\n\u001b[1;32m    218\u001b[0m         \u001b[0mfunc\u001b[0m \u001b[0;34m=\u001b[0m \u001b[0m_single_tensor_adagrad\u001b[0m\u001b[0;34m\u001b[0m\u001b[0;34m\u001b[0m\u001b[0m\n\u001b[1;32m    219\u001b[0m \u001b[0;34m\u001b[0m\u001b[0m\n\u001b[0;32m--> 220\u001b[0;31m     func(\n\u001b[0m\u001b[1;32m    221\u001b[0m         \u001b[0mparams\u001b[0m\u001b[0;34m,\u001b[0m\u001b[0;34m\u001b[0m\u001b[0;34m\u001b[0m\u001b[0m\n\u001b[1;32m    222\u001b[0m         \u001b[0mgrads\u001b[0m\u001b[0;34m,\u001b[0m\u001b[0;34m\u001b[0m\u001b[0;34m\u001b[0m\u001b[0m\n",
            "\u001b[0;32m/usr/local/lib/python3.10/dist-packages/torch/optim/adagrad.py\u001b[0m in \u001b[0;36m_single_tensor_adagrad\u001b[0;34m(params, grads, state_sums, state_steps, lr, weight_decay, lr_decay, eps, has_sparse_grad, maximize, differentiable)\u001b[0m\n\u001b[1;32m    291\u001b[0m                 \u001b[0mstd\u001b[0m \u001b[0;34m=\u001b[0m \u001b[0mstate_sum\u001b[0m\u001b[0;34m.\u001b[0m\u001b[0msqrt\u001b[0m\u001b[0;34m(\u001b[0m\u001b[0;34m)\u001b[0m \u001b[0;34m+\u001b[0m \u001b[0meps\u001b[0m\u001b[0;34m\u001b[0m\u001b[0;34m\u001b[0m\u001b[0m\n\u001b[1;32m    292\u001b[0m             \u001b[0;32melse\u001b[0m\u001b[0;34m:\u001b[0m\u001b[0;34m\u001b[0m\u001b[0;34m\u001b[0m\u001b[0m\n\u001b[0;32m--> 293\u001b[0;31m                 \u001b[0mstd\u001b[0m \u001b[0;34m=\u001b[0m \u001b[0mstate_sum\u001b[0m\u001b[0;34m.\u001b[0m\u001b[0msqrt\u001b[0m\u001b[0;34m(\u001b[0m\u001b[0;34m)\u001b[0m\u001b[0;34m.\u001b[0m\u001b[0madd_\u001b[0m\u001b[0;34m(\u001b[0m\u001b[0meps\u001b[0m\u001b[0;34m)\u001b[0m\u001b[0;34m\u001b[0m\u001b[0;34m\u001b[0m\u001b[0m\n\u001b[0m\u001b[1;32m    294\u001b[0m             \u001b[0mparam\u001b[0m\u001b[0;34m.\u001b[0m\u001b[0maddcdiv_\u001b[0m\u001b[0;34m(\u001b[0m\u001b[0mgrad\u001b[0m\u001b[0;34m,\u001b[0m \u001b[0mstd\u001b[0m\u001b[0;34m,\u001b[0m \u001b[0mvalue\u001b[0m\u001b[0;34m=\u001b[0m\u001b[0;34m-\u001b[0m\u001b[0mclr\u001b[0m\u001b[0;34m)\u001b[0m\u001b[0;34m\u001b[0m\u001b[0;34m\u001b[0m\u001b[0m\n\u001b[1;32m    295\u001b[0m             \u001b[0;32mif\u001b[0m \u001b[0mis_complex\u001b[0m\u001b[0;34m:\u001b[0m\u001b[0;34m\u001b[0m\u001b[0;34m\u001b[0m\u001b[0m\n",
            "\u001b[0;31mKeyboardInterrupt\u001b[0m: "
          ]
        }
      ],
      "source": [
        "# Training loop\n",
        "stopi = []\n",
        "lossi = []\n",
        "num_iterations = 5\n",
        "for iteration in range(num_iterations):\n",
        "\n",
        "  for p in range(len(data) - seq_length):\n",
        "\n",
        "    # inputs = torch.tensor([char_to_ix[ch] for ch in data[p:p + seq_length]], dtype=torch.long).view(1, -1)\n",
        "    # targets = torch.tensor([char_to_ix[ch] for ch in data[p + seq_length]], dtype=torch.long).view(-1)\n",
        "\n",
        "    inputs, targets = generate_mini_batch()\n",
        "    optimizer.zero_grad()\n",
        "    predict_char = model(inputs)\n",
        "\n",
        "    loss = criterion(predict_char.view(-1, 65), targets.view(-1))\n",
        "\n",
        "    loss.backward()\n",
        "\n",
        "    for param in model.parameters():\n",
        "      if param.grad is not None:\n",
        "        param.grad.data.clamp_(-5, 5)\n",
        "\n",
        "    optimizer.step()\n",
        "\n",
        "    if p % 2000 == 0:\n",
        "      print(f'Iteration {(iteration + 1) * p}, Loss: {loss.item()}')\n",
        "      stopi.append((iteration + 1) * p)\n",
        "      lossi.append(loss.item())"
      ]
    },
    {
      "cell_type": "code",
      "execution_count": 13,
      "metadata": {
        "colab": {
          "base_uri": "https://localhost:8080/"
        },
        "id": "FpgZG9toDSdb",
        "outputId": "00d561e4-4522-4da3-93e0-e1de589fbe5c"
      },
      "outputs": [
        {
          "output_type": "stream",
          "name": "stdout",
          "text": [
            "First Citizen:\n",
            "Dis\n",
            "net tot knows you?\n",
            "\n",
            "ASCAMTOLA:\n",
            "No that no liong'd. nay shalle\n",
            "What mallege.\n",
            "\n",
            "KING RICHAPETH:\n",
            "Meir pusfion thou to dost then, fried anke sest give, buve,\n",
            "Lo as you mare.\n",
            "WnattAN.\n",
            "\n",
            "KEKVore reafetfe, benble the me trem, as heavere all the now,\n",
            "Het intanuiteese,\n",
            "For peyrinn!\n",
            "Whon I reve mars paciold would--thou I enom no watligo. Powd hen a silr you, maze mouls whatent,\n",
            "An that lablit\n",
            "ENicas: for, who suve be the lord to tome sunt; solr defpencet\n",
            "Egiin:\n",
            "And see chilse,\n",
            "I'll wo\n",
            "Fram feruce the stand of have\n",
            "Do that tall go sunteribe,\n",
            "I'litineian unals. Lord sed bestten brovy,\n",
            "If in my Rone\n",
            "Ancaser Londer and,\n",
            "DUbls:\n",
            "Nus, Gortoresl fally play mar lold canchole\n",
            "Mo co curtonsed; with that deast mave, most inatoos, Xa to sreyar, all his.\n",
            "\n",
            "KING RICHARDwIO:\n",
            "At hill rest exstwel:\n",
            "And shonorss;, heraw be?\n",
            "Ithous dafe stow and nostinme thes make wheir of sing\n",
            "ELAnd, you sheelt, than he'dintitte,\n",
            "And fabkas, Aadienoring,\n",
            "youcfred nos\n",
            "If themp h'me uus form\n",
            "Thing hears stideser:\n",
            "And hid got his \n"
          ]
        }
      ],
      "source": [
        "start = \"First Citizen\"\n",
        "\n",
        "for i in range(1000):\n",
        "  lll = start[-seq_length:]\n",
        "  ll = torch.tensor([char_to_ix[ch] for ch in lll], dtype=torch.long).view(1, -1)\n",
        "  outputs = model(ll)\n",
        "  p = nn.functional.softmax(outputs, dim=-1).detach().numpy().ravel()\n",
        "  ix = np.random.choice(range(vocab_size), p=p)\n",
        "  ix = torch.tensor(ix, dtype=torch.long).view(1, 1)\n",
        "  start += ix_to_char[ix[0][0].item()]\n",
        "\n",
        "print(start)\n"
      ]
    }
  ],
  "metadata": {
    "colab": {
      "provenance": [],
      "authorship_tag": "ABX9TyOpzwKx5k1GqN344Mtydfv/",
      "include_colab_link": true
    },
    "kernelspec": {
      "display_name": "Python 3",
      "name": "python3"
    },
    "language_info": {
      "name": "python"
    }
  },
  "nbformat": 4,
  "nbformat_minor": 0
}