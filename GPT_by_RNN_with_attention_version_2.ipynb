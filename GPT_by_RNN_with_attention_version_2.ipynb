{
  "nbformat": 4,
  "nbformat_minor": 0,
  "metadata": {
    "colab": {
      "provenance": [],
      "authorship_tag": "ABX9TyNZA1cY8t7Fq62FTdEjKVKx",
      "include_colab_link": true
    },
    "kernelspec": {
      "name": "python3",
      "display_name": "Python 3"
    },
    "language_info": {
      "name": "python"
    }
  },
  "cells": [
    {
      "cell_type": "markdown",
      "metadata": {
        "id": "view-in-github",
        "colab_type": "text"
      },
      "source": [
        "<a href=\"https://colab.research.google.com/github/archyyu/GPT-from-MLP-to-RNN-to-Transformer/blob/main/GPT_by_RNN_with_attention_version_2.ipynb\" target=\"_parent\"><img src=\"https://colab.research.google.com/assets/colab-badge.svg\" alt=\"Open In Colab\"/></a>"
      ]
    },
    {
      "cell_type": "code",
      "source": [
        "import requests\n",
        "import torch\n",
        "import torch.nn as nn\n",
        "import torch.optim as optim\n",
        "import numpy as np\n",
        "import matplotlib.pyplot as plt # for making figures\n",
        "%matplotlib inline\n",
        "\n",
        "# Set random seed for reproducibility\n",
        "torch.manual_seed(42)"
      ],
      "metadata": {
        "id": "uOcLhTikoHXs",
        "colab": {
          "base_uri": "https://localhost:8080/"
        },
        "outputId": "6addb1bb-b5e5-4a86-df44-99fa0054bf43"
      },
      "execution_count": 1,
      "outputs": [
        {
          "output_type": "execute_result",
          "data": {
            "text/plain": [
              "<torch._C.Generator at 0x7849a53985b0>"
            ]
          },
          "metadata": {},
          "execution_count": 1
        }
      ]
    },
    {
      "cell_type": "code",
      "source": [
        "# Data I/O\n",
        "\n",
        "url = \"https://raw.githubusercontent.com/karpathy/char-rnn/master/data/tinyshakespeare/input.txt\"\n",
        "#url = \"https://raw.githubusercontent.com/archyyu/publicResource/main/google.dev.en\"\n",
        "#url = \"https://raw.githubusercontent.com/torvalds/linux/master/mm/madvise.c\"\n",
        "response = requests.get(url)\n",
        "data = response.text\n",
        "\n",
        "chars = list(set(data))\n",
        "data_size, vocab_size = len(data), len(chars)\n",
        "print(f'data has {data_size} characters, {vocab_size} unique.')\n",
        "\n",
        "char_to_ix = {ch: i for i, ch in enumerate(chars)}\n",
        "ix_to_char = {i: ch for i, ch in enumerate(chars)}"
      ],
      "metadata": {
        "colab": {
          "base_uri": "https://localhost:8080/"
        },
        "id": "5pc3iAgLoLPl",
        "outputId": "104f3111-df4d-4f2a-d68e-d45fff41d1a5"
      },
      "execution_count": 2,
      "outputs": [
        {
          "output_type": "stream",
          "name": "stdout",
          "text": [
            "data has 1115394 characters, 65 unique.\n"
          ]
        }
      ]
    },
    {
      "cell_type": "code",
      "source": [
        "# Hyperparameters\n",
        "hidden_size = 100\n",
        "embedding_dim = 20\n",
        "seq_length = 25\n",
        "learning_rate = 1e-1\n",
        "batch_size = 20"
      ],
      "metadata": {
        "id": "F1bdC1IQoO7B"
      },
      "execution_count": 3,
      "outputs": []
    },
    {
      "cell_type": "code",
      "source": [
        "class Attention(nn.Module):\n",
        "  def __init__(self, hidden_size):\n",
        "    super(Attention, self).__init__()\n",
        "    self.attn = nn.Linear(hidden_size * 2, hidden_size)\n",
        "    self.v = nn.Parameter(torch.rand(hidden_size))\n",
        "\n",
        "  def forward(self, hidden, encoder_outputs):\n",
        "    seq_len = encoder_outputs.size(1)\n",
        "    hidden = hidden.unsqueeze(1).repeat(1, seq_len, 1)\n",
        "    energy = torch.tanh(self.attn(torch.cat((hidden, encoder_outputs), dim=-1)))\n",
        "    attention_scores = torch.matmul(energy, self.v)\n",
        "    attention_weights = torch.softmax(attention_scores, dim=1)\n",
        "    context_vector = torch.sum(attention_weights.unsqueeze(2) * encoder_outputs, dim=1)\n",
        "    return context_vector\n",
        "\n",
        "class ManillaRNN(nn.Module):\n",
        "  def __init__(self, vocab_size, embedding_dim, hidden_size):\n",
        "    super(ManillaRNN, self).__init__()\n",
        "    self.hidden_size = hidden_size\n",
        "    self.embedding = nn.Embedding(vocab_size, embedding_dim)\n",
        "    self.i2h = nn.Linear(embedding_dim, hidden_size, bias=False)\n",
        "    self.h2h = nn.Linear(hidden_size, hidden_size, bias=False)\n",
        "    self.h2o = nn.Linear(hidden_size, vocab_size, bias=False)\n",
        "    self.e2d = nn.Linear(hidden_size, vocab_size, bias=False)\n",
        "    self.hb2 = nn.Parameter(torch.zeros(1, hidden_size))\n",
        "    self.ob = nn.Parameter(torch.zeros(1, vocab_size))\n",
        "    self.attention = Attention(hidden_size)\n",
        "\n",
        "  def forward(self, x):\n",
        "    h = torch.zeros(x.shape[0], self.hidden_size)\n",
        "    y_list = []\n",
        "    h_list = []\n",
        "    h_list.append(h)\n",
        "    for i in range(x.shape[1]):\n",
        "      t = self.embedding(x[:,i])\n",
        "      h = torch.tanh(self.i2h(t) + self.h2h(h) + self.hb2)\n",
        "      h_list.append(h)\n",
        "      cxt = self.attention(h, torch.stack(h_list, dim=1))\n",
        "      y = self.e2d(cxt) + self.h2o(h) + self.ob\n",
        "      y_list.append(y)\n",
        "    return torch.stack(y_list, dim=1);\n",
        "\n",
        "\n",
        "criterion = nn.CrossEntropyLoss()\n",
        "\n",
        "model = ManillaRNN(vocab_size, embedding_dim, hidden_size)\n",
        "optimizer = optim.Adagrad(model.parameters(), lr=learning_rate)"
      ],
      "metadata": {
        "id": "PIhImafKpZNI"
      },
      "execution_count": 4,
      "outputs": []
    },
    {
      "cell_type": "markdown",
      "source": [
        "Now tusi ManillaRNN is different with the VanillaRNN.\n",
        "It will iterate all the time step, drop the intermediate output, and only output the final one.\n",
        "\n",
        "But I am not going to rewrite the training function to retrain the new model.\n",
        "Because I think the VanillaRNN is more better and controlable than this one.\n"
      ],
      "metadata": {
        "id": "aHBdvi-upC5d"
      }
    },
    {
      "cell_type": "code",
      "source": [
        "def getBatch():\n",
        "  batch_inputs = []\n",
        "  batch_targets = []\n",
        "\n",
        "  start_idx = torch.randint(len(data) - batch_size - seq_length - 2,[1]).item()\n",
        "\n",
        "  # Generate examples for the current minibatch\n",
        "  for i in range(batch_size):\n",
        "    p = start_idx + i\n",
        "    inputs = torch.tensor([char_to_ix[ch] for ch in data[p:p + seq_length]], dtype=torch.long).view(1, -1)\n",
        "    targets = torch.tensor([char_to_ix[ch] for ch in data[p + 1:p + seq_length + 1]], dtype=torch.long).view(-1)\n",
        "\n",
        "    batch_inputs.append(inputs)\n",
        "    batch_targets.append(targets)\n",
        "\n",
        "  # Convert lists to tensors\n",
        "  minibatch_inputs = torch.cat(batch_inputs, dim=0)\n",
        "  minibatch_targets = torch.stack(batch_targets)\n",
        "  return minibatch_inputs, minibatch_targets"
      ],
      "metadata": {
        "id": "PgvNUMTTzp72"
      },
      "execution_count": 6,
      "outputs": []
    },
    {
      "cell_type": "code",
      "source": [
        "stopi = []\n",
        "lossi = []"
      ],
      "metadata": {
        "id": "n2Mur0SYUMub"
      },
      "execution_count": 7,
      "outputs": []
    },
    {
      "cell_type": "code",
      "execution_count": 10,
      "metadata": {
        "id": "t7miViwQnRUd",
        "colab": {
          "base_uri": "https://localhost:8080/"
        },
        "outputId": "d4c3b773-2cb7-4893-f857-5ee7db2b2dd2"
      },
      "outputs": [
        {
          "output_type": "stream",
          "name": "stdout",
          "text": [
            "Iteration 10000, Loss: 2.1800272464752197\n",
            "Iteration 11000, Loss: 2.3864083290100098\n",
            "Iteration 12000, Loss: 2.0877020359039307\n",
            "Iteration 13000, Loss: 1.684799075126648\n",
            "Iteration 14000, Loss: 1.7246509790420532\n",
            "Iteration 15000, Loss: 2.015029191970825\n",
            "Iteration 16000, Loss: 1.7445600032806396\n",
            "Iteration 17000, Loss: 2.153332471847534\n",
            "Iteration 18000, Loss: 1.587939739227295\n",
            "Iteration 19000, Loss: 1.9100979566574097\n"
          ]
        }
      ],
      "source": [
        "# Training loop\n",
        "num_iterations = 10000\n",
        "for iteration in range(num_iterations, num_iterations * 2):\n",
        "\n",
        "  inputs, targets = getBatch()\n",
        "  predicts = model(inputs)\n",
        "  optimizer.zero_grad()\n",
        "  B,T = targets.shape\n",
        "\n",
        "  totalloss = criterion(predicts.view(B*T, -1), targets.view(B*T))\n",
        "  totalloss.backward()\n",
        "  optimizer.step()\n",
        "\n",
        "  if iteration % 1000 == 0:\n",
        "    print(f'Iteration {iteration}, Loss: {totalloss}')\n",
        "    stopi.append(iteration)\n",
        "    lossi.append(totalloss.item())\n"
      ]
    },
    {
      "cell_type": "code",
      "source": [
        "plt.plot(stopi, lossi)"
      ],
      "metadata": {
        "id": "kpWRZt81RrAt",
        "colab": {
          "base_uri": "https://localhost:8080/",
          "height": 448
        },
        "outputId": "69bb4322-9ecd-4ef6-fa3d-51f5e7cccfb3"
      },
      "execution_count": 11,
      "outputs": [
        {
          "output_type": "execute_result",
          "data": {
            "text/plain": [
              "[<matplotlib.lines.Line2D at 0x7848e042be20>]"
            ]
          },
          "metadata": {},
          "execution_count": 11
        },
        {
          "output_type": "display_data",
          "data": {
            "text/plain": [
              "<Figure size 640x480 with 1 Axes>"
            ],
            "image/png": "[encoded data removed]"
          },
          "metadata": {}
        }
      ]
    },
    {
      "cell_type": "code",
      "source": [
        "with torch.no_grad():\n",
        "\n",
        "  start = ['F']\n",
        "  result = ['F']\n",
        "\n",
        "  for i in range(2000):\n",
        "    start = start[-seq_length:]\n",
        "    ilist = torch.tensor([char_to_ix[i] for i in start])\n",
        "    ilist = ilist.reshape(1, -1)\n",
        "    outputs = model(ilist)\n",
        "\n",
        "    p = nn.functional.softmax(outputs[:,-1,:], dim=-1).detach().numpy().ravel()\n",
        "    ix = np.random.choice(range(vocab_size), p=p)\n",
        "    start.append(ix_to_char[ix])\n",
        "    result.append(ix_to_char[ix])\n",
        "\n",
        "  print(''.join(result))"
      ],
      "metadata": {
        "id": "I9FANLvcoQtW",
        "colab": {
          "base_uri": "https://localhost:8080/"
        },
        "outputId": "baae812a-3832-4004-cc44-6d863d49a2f9"
      },
      "execution_count": 15,
      "outputs": [
        {
          "output_type": "stream",
          "name": "stdout",
          "text": [
            "Ferel.\n",
            "\n",
            "PETRUMIO:\n",
            "Coit!\n",
            "\n",
            "PETES:\n",
            "Nound our figher gram ingbondes stiltelt a Ghalent reris;\n",
            "Rons andins. the bering stinood, thald denvell OFIXINGO:\n",
            "Promer Pow siy not,\n",
            "Sirt with doingent septent; it dranit of Pitlounh Bad it the whisonghed lenina:\n",
            "Mell, let lofg\n",
            "he to mepeine seef.\n",
            "\n",
            "COLIZORIZALUS:\n",
            "May.\n",
            "S,\n",
            "But whoum a trupacee.\n",
            "Yiss.\n",
            "\n",
            "SOMPED:\n",
            "Mears I filrown tell in\n",
            "thou taun prome alonch mens. Saadfightyed everwood noblear grath nnow insies mest chan?\n",
            "\n",
            "HELLOCKIZAUKISFABES:\n",
            "Yezericw.\n",
            "\n",
            "MONE EDY URY EQUTIMOO:\n",
            "O ke liepguert thou deatisy fe mpies soefore came 'ff let,\n",
            "Somberffore:\n",
            "The prean ceforrervideffovise tweuld?\n",
            "\n",
            "EOMER:\n",
            "Heres that stand to both; aband her:\n",
            "I shall, Pratk and 'fert the whRipnen'd the gow thernf will and to\n",
            "Their cyons aet; steefute thy, of tithars tond thrire.\n",
            "Sir 'twerst gousss, not to ser, thy per;\n",
            "and foainter enjind thigher his that dave ogemaitsead as I sebay wall plallere conisloo the nets of for odemarths,\n",
            "Sath,\n",
            "ANd of mothee not the shands you. Core.\n",
            "\n",
            "DOCINIOLEORCOMO:\n",
            "Bay:\n",
            "Wrake butnny whirsiples tore, shall tors.\n",
            "\n",
            "BACKICENTIO:\n",
            "Uy love my dry the feiwe yould,\n",
            "Mame, defarr prece?\n",
            "heast slich keive Epcentime.\n",
            "Pris fees righer, hey me to and that guge--theeser beqol' deforen;\n",
            "It this your sarre to gray\n",
            "And knot the lookant!\n",
            "But I bopeed I'll tla they night seman-livent?\n",
            "Nouth we ht\n",
            "This way,\n",
            "But nigher, and Gow woud deward,\n",
            "\n",
            "LADEEN:\n",
            "Letpeme, ne with by noth!\n",
            "\n",
            "SOCHAPUS:\n",
            "What inje, and he te'd bloo sace plo with my handne.\n",
            "\n",
            "TRARIAM:\n",
            "Heent.\n",
            "\n",
            "BREO:\n",
            "Sntounf,\n",
            "Sy kind I mighbenk, math'entus\n",
            "And hall youde, and greed Come that the lookly'd; Gioo applift.\n",
            "\n",
            "TELRUCHEUS:\n",
            "When now.\n",
            "\n",
            "JUET:\n",
            "Aster?\n",
            "\n",
            "PEY IEETONTE:\n",
            "Sis saves,\n",
            "Thou strow, jutht the I bruren, neva;\n",
            "Mires the treanturr,\n",
            "Mingent kothe.\n",
            "Soolestle towsaint Plaghint theife of the to diching shat thy blordson.\n",
            "Therefean\n",
            "with gone; haveed gal! I bik down ffieesed.\n",
            "\n",
            "LOMCEANEE:\n",
            "Apon's conganter:\n",
            "ISI shabrutbarneverced,\n",
            "I for that the by ge's hour noth me of\n",
            "Shollow, trulk me as that,\n",
            "Will hand thy told,\n",
            "stp\n"
          ]
        }
      ]
    },
    {
      "cell_type": "markdown",
      "source": [
        "The new idea is that.\n",
        "\n",
        "I always use the last time step as the final output of the RNN, or as the predict character of the previous input. we could go further as that, add attention in the final step, to focus differently on the previous tokens to decide what to predict, let do that.\n",
        "\n",
        "finnally, I add attention to every time step, to focus differently on the previouse tokens\n",
        "\n",
        "the result is better now.\n",
        "\n",
        "But how could I compared with GRU and LSTM\n",
        "\n",
        "now I would like add eva data to value the model"
      ],
      "metadata": {
        "id": "UscbtqGkCQWy"
      }
    }
  ]
}